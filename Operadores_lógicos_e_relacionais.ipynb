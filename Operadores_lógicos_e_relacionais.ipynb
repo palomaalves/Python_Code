{
  "nbformat": 4,
  "nbformat_minor": 0,
  "metadata": {
    "colab": {
      "name": " Operadores lógicos e relacionais.ipynb",
      "provenance": [],
      "collapsed_sections": [],
      "include_colab_link": true
    },
    "kernelspec": {
      "name": "python3",
      "display_name": "Python 3"
    }
  },
  "cells": [
    {
      "cell_type": "markdown",
      "metadata": {
        "id": "view-in-github",
        "colab_type": "text"
      },
      "source": [
        "<a href=\"https://colab.research.google.com/github/palomaalves/Python_Code/blob/main/Operadores_l%C3%B3gicos_e_relacionais.ipynb\" target=\"_parent\"><img src=\"https://colab.research.google.com/assets/colab-badge.svg\" alt=\"Open In Colab\"/></a>"
      ]
    },
    {
      "cell_type": "markdown",
      "metadata": {
        "id": "GY09z1-ia5g8"
      },
      "source": [
        "# Operadores lógicos e relacionais\n",
        "\n",
        "\n"
      ]
    },
    {
      "cell_type": "markdown",
      "metadata": {
        "id": "HI4JJHvBa8vR"
      },
      "source": [
        "## Operadores lógicos"
      ]
    },
    {
      "cell_type": "code",
      "metadata": {
        "id": "rzfRhacJ5SKw"
      },
      "source": [
        "a = True\n",
        "b = False"
      ],
      "execution_count": 1,
      "outputs": []
    },
    {
      "cell_type": "code",
      "metadata": {
        "id": "4X7HAtz65dax",
        "colab": {
          "base_uri": "https://localhost:8080/"
        },
        "outputId": "82ceec96-3827-4b9d-adf1-dbaa08fc69a4"
      },
      "source": [
        "print(a, b)"
      ],
      "execution_count": 2,
      "outputs": [
        {
          "output_type": "stream",
          "name": "stdout",
          "text": [
            "True False\n"
          ]
        }
      ]
    },
    {
      "cell_type": "code",
      "metadata": {
        "id": "etBezuil5j5w",
        "colab": {
          "base_uri": "https://localhost:8080/"
        },
        "outputId": "8b5d7d7b-2312-4459-92f7-36a18222155c"
      },
      "source": [
        "a and b"
      ],
      "execution_count": 3,
      "outputs": [
        {
          "output_type": "execute_result",
          "data": {
            "text/plain": [
              "False"
            ]
          },
          "metadata": {},
          "execution_count": 3
        }
      ]
    },
    {
      "cell_type": "code",
      "metadata": {
        "id": "UtWISDG45rdf",
        "colab": {
          "base_uri": "https://localhost:8080/"
        },
        "outputId": "33466fc9-fbe1-427e-920b-476d8f2709ba"
      },
      "source": [
        "a & b"
      ],
      "execution_count": 4,
      "outputs": [
        {
          "output_type": "execute_result",
          "data": {
            "text/plain": [
              "False"
            ]
          },
          "metadata": {},
          "execution_count": 4
        }
      ]
    },
    {
      "cell_type": "code",
      "metadata": {
        "id": "V5z_jiGH5zpJ",
        "colab": {
          "base_uri": "https://localhost:8080/"
        },
        "outputId": "b41b6c6c-46ba-4af4-e8e0-b66cf2144ac0"
      },
      "source": [
        "c = a and b\n",
        "print(\"'A' e 'B' são iguais é\", c)"
      ],
      "execution_count": 5,
      "outputs": [
        {
          "output_type": "stream",
          "name": "stdout",
          "text": [
            "'A' e 'B' são iguais é False\n"
          ]
        }
      ]
    },
    {
      "cell_type": "code",
      "metadata": {
        "id": "pYv-F6Uo6Jik",
        "colab": {
          "base_uri": "https://localhost:8080/"
        },
        "outputId": "a4c48db8-c5bd-4812-b668-a16345c3aebc"
      },
      "source": [
        "a or b"
      ],
      "execution_count": 6,
      "outputs": [
        {
          "output_type": "execute_result",
          "data": {
            "text/plain": [
              "True"
            ]
          },
          "metadata": {},
          "execution_count": 6
        }
      ]
    },
    {
      "cell_type": "code",
      "metadata": {
        "id": "IX_vZaDm6Pwf",
        "colab": {
          "base_uri": "https://localhost:8080/"
        },
        "outputId": "5c7ad440-5e35-431b-c766-5a1b3f1e9cd6"
      },
      "source": [
        "a | b"
      ],
      "execution_count": 7,
      "outputs": [
        {
          "output_type": "execute_result",
          "data": {
            "text/plain": [
              "True"
            ]
          },
          "metadata": {},
          "execution_count": 7
        }
      ]
    },
    {
      "cell_type": "code",
      "metadata": {
        "id": "TtqH9SuN6WYc",
        "colab": {
          "base_uri": "https://localhost:8080/"
        },
        "outputId": "fc66d7a9-fd24-4a6f-de75-1364ee23a85c"
      },
      "source": [
        "d = a or b\n",
        "print(\"'A' ou 'B' é igual a\", d)"
      ],
      "execution_count": 8,
      "outputs": [
        {
          "output_type": "stream",
          "name": "stdout",
          "text": [
            "'A' ou 'B' é igual a True\n"
          ]
        }
      ]
    },
    {
      "cell_type": "code",
      "metadata": {
        "id": "pEfaRFzZ6fNZ",
        "colab": {
          "base_uri": "https://localhost:8080/"
        },
        "outputId": "86cac7f1-84f1-4366-afab-39aabc220fc2"
      },
      "source": [
        "not a"
      ],
      "execution_count": 9,
      "outputs": [
        {
          "output_type": "execute_result",
          "data": {
            "text/plain": [
              "False"
            ]
          },
          "metadata": {},
          "execution_count": 9
        }
      ]
    },
    {
      "cell_type": "code",
      "metadata": {
        "id": "IIvESI1X6lrp",
        "colab": {
          "base_uri": "https://localhost:8080/"
        },
        "outputId": "cb4e0954-78d2-4271-e3ba-eaef5481ee15"
      },
      "source": [
        "not b"
      ],
      "execution_count": 10,
      "outputs": [
        {
          "output_type": "execute_result",
          "data": {
            "text/plain": [
              "True"
            ]
          },
          "metadata": {},
          "execution_count": 10
        }
      ]
    },
    {
      "cell_type": "markdown",
      "metadata": {
        "id": "dsJcxHQxcIdd"
      },
      "source": [
        "## Operadores relacionais"
      ]
    },
    {
      "cell_type": "code",
      "metadata": {
        "id": "hV8lQ68M6osG",
        "colab": {
          "base_uri": "https://localhost:8080/"
        },
        "outputId": "d9698ca4-8e67-4c9b-c486-def94f4874ac"
      },
      "source": [
        "5 > 3"
      ],
      "execution_count": 11,
      "outputs": [
        {
          "output_type": "execute_result",
          "data": {
            "text/plain": [
              "True"
            ]
          },
          "metadata": {},
          "execution_count": 11
        }
      ]
    },
    {
      "cell_type": "code",
      "metadata": {
        "id": "bnrB8kMC6ttx",
        "colab": {
          "base_uri": "https://localhost:8080/"
        },
        "outputId": "a0877ec4-d8b9-4278-ed70-401ea40c27d0"
      },
      "source": [
        "5 < 3"
      ],
      "execution_count": 12,
      "outputs": [
        {
          "output_type": "execute_result",
          "data": {
            "text/plain": [
              "False"
            ]
          },
          "metadata": {},
          "execution_count": 12
        }
      ]
    },
    {
      "cell_type": "code",
      "metadata": {
        "id": "TCupjJD86v6T",
        "colab": {
          "base_uri": "https://localhost:8080/"
        },
        "outputId": "1696eaa4-e0ed-4077-c2be-ff602e6ae9ab"
      },
      "source": [
        "5 >= 5"
      ],
      "execution_count": 13,
      "outputs": [
        {
          "output_type": "execute_result",
          "data": {
            "text/plain": [
              "True"
            ]
          },
          "metadata": {},
          "execution_count": 13
        }
      ]
    },
    {
      "cell_type": "code",
      "metadata": {
        "id": "HgmwL04662Pp",
        "colab": {
          "base_uri": "https://localhost:8080/"
        },
        "outputId": "dc8e2abf-ad78-4a6f-ff9c-5cc3d80a7acc"
      },
      "source": [
        "5 <= 3"
      ],
      "execution_count": 14,
      "outputs": [
        {
          "output_type": "execute_result",
          "data": {
            "text/plain": [
              "False"
            ]
          },
          "metadata": {},
          "execution_count": 14
        }
      ]
    },
    {
      "cell_type": "code",
      "metadata": {
        "id": "n5Tagg3c65wR",
        "colab": {
          "base_uri": "https://localhost:8080/"
        },
        "outputId": "64c0b63a-8334-467d-8da0-f8ab266f0e6c"
      },
      "source": [
        "5 == 3"
      ],
      "execution_count": 15,
      "outputs": [
        {
          "output_type": "execute_result",
          "data": {
            "text/plain": [
              "False"
            ]
          },
          "metadata": {},
          "execution_count": 15
        }
      ]
    },
    {
      "cell_type": "code",
      "metadata": {
        "id": "1fAPptVK7Bu_",
        "colab": {
          "base_uri": "https://localhost:8080/"
        },
        "outputId": "2845d98e-cdb7-4774-d91e-d4d418aeb335"
      },
      "source": [
        "5 != 3"
      ],
      "execution_count": 16,
      "outputs": [
        {
          "output_type": "execute_result",
          "data": {
            "text/plain": [
              "True"
            ]
          },
          "metadata": {},
          "execution_count": 16
        }
      ]
    }
  ]
}