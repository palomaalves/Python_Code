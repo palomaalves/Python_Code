{
  "nbformat": 4,
  "nbformat_minor": 0,
  "metadata": {
    "colab": {
      "name": "Tratamento de erros e exceções.ipynb",
      "provenance": [],
      "collapsed_sections": [],
      "include_colab_link": true
    },
    "kernelspec": {
      "name": "python3",
      "display_name": "Python 3"
    }
  },
  "cells": [
    {
      "cell_type": "markdown",
      "metadata": {
        "id": "view-in-github",
        "colab_type": "text"
      },
      "source": [
        "<a href=\"https://colab.research.google.com/github/palomaalves/Python_Code/blob/main/Tratamento_de_erros_e_exce%C3%A7%C3%B5es.ipynb\" target=\"_parent\"><img src=\"https://colab.research.google.com/assets/colab-badge.svg\" alt=\"Open In Colab\"/></a>"
      ]
    },
    {
      "cell_type": "markdown",
      "metadata": {
        "id": "OsYdsrx-AVXI"
      },
      "source": [
        "# Tratamento de erros e exceções\n",
        "\n",
        "- NameError: variável nao foi definida\n",
        "- TypeError: tipos de dados incompatíveis\n",
        "- RuntimeError: erro de execução\n",
        "- SyntaxError: sintaxe digitada é inválida e não reconhecida pelo interpretador\n",
        "- ZeroDivisionError: divisão por zero\n",
        "- IndexError: índice está fora da coleção"
      ]
    },
    {
      "cell_type": "markdown",
      "metadata": {
        "id": "KbZb4vz2A60r"
      },
      "source": [
        "## Tipos de erros"
      ]
    },
    {
      "cell_type": "code",
      "metadata": {
        "id": "hp9etY5yJd96",
        "colab": {
          "base_uri": "https://localhost:8080/",
          "height": 135
        },
        "outputId": "20599775-16dc-4cca-f9d8-f973d9932d44"
      },
      "source": [
        "3 = 4"
      ],
      "execution_count": 2,
      "outputs": [
        {
          "output_type": "error",
          "ename": "SyntaxError",
          "evalue": "ignored",
          "traceback": [
            "\u001b[0;36m  File \u001b[0;32m\"<ipython-input-2-effb9ca1a7d0>\"\u001b[0;36m, line \u001b[0;32m1\u001b[0m\n\u001b[0;31m    3 = 4\u001b[0m\n\u001b[0m         ^\u001b[0m\n\u001b[0;31mSyntaxError\u001b[0m\u001b[0;31m:\u001b[0m can't assign to literal\n"
          ]
        }
      ]
    },
    {
      "cell_type": "code",
      "metadata": {
        "id": "mCQ_Mh0eJqr_",
        "colab": {
          "base_uri": "https://localhost:8080/",
          "height": 172
        },
        "outputId": "d5a2fec8-ea7f-4c29-edb2-66b7b9f6e8f8"
      },
      "source": [
        "print('Meu nome é', nome)"
      ],
      "execution_count": 3,
      "outputs": [
        {
          "output_type": "error",
          "ename": "NameError",
          "evalue": "ignored",
          "traceback": [
            "\u001b[0;31m---------------------------------------------------------------------------\u001b[0m",
            "\u001b[0;31mNameError\u001b[0m                                 Traceback (most recent call last)",
            "\u001b[0;32m<ipython-input-3-8814f7563975>\u001b[0m in \u001b[0;36m<module>\u001b[0;34m()\u001b[0m\n\u001b[0;32m----> 1\u001b[0;31m \u001b[0mprint\u001b[0m\u001b[0;34m(\u001b[0m\u001b[0;34m'Meu nome é'\u001b[0m\u001b[0;34m,\u001b[0m \u001b[0mnome\u001b[0m\u001b[0;34m)\u001b[0m\u001b[0;34m\u001b[0m\u001b[0;34m\u001b[0m\u001b[0m\n\u001b[0m",
            "\u001b[0;31mNameError\u001b[0m: name 'nome' is not defined"
          ]
        }
      ]
    },
    {
      "cell_type": "code",
      "metadata": {
        "id": "22w4IFw5Ko_F",
        "colab": {
          "base_uri": "https://localhost:8080/",
          "height": 172
        },
        "outputId": "a32b2f58-d0ea-4632-eecf-fd15663428b5"
      },
      "source": [
        "print(3 / 0)"
      ],
      "execution_count": 4,
      "outputs": [
        {
          "output_type": "error",
          "ename": "ZeroDivisionError",
          "evalue": "ignored",
          "traceback": [
            "\u001b[0;31m---------------------------------------------------------------------------\u001b[0m",
            "\u001b[0;31mZeroDivisionError\u001b[0m                         Traceback (most recent call last)",
            "\u001b[0;32m<ipython-input-4-76ea80225931>\u001b[0m in \u001b[0;36m<module>\u001b[0;34m()\u001b[0m\n\u001b[0;32m----> 1\u001b[0;31m \u001b[0mprint\u001b[0m\u001b[0;34m(\u001b[0m\u001b[0;36m3\u001b[0m \u001b[0;34m/\u001b[0m \u001b[0;36m0\u001b[0m\u001b[0;34m)\u001b[0m\u001b[0;34m\u001b[0m\u001b[0;34m\u001b[0m\u001b[0m\n\u001b[0m",
            "\u001b[0;31mZeroDivisionError\u001b[0m: division by zero"
          ]
        }
      ]
    },
    {
      "cell_type": "code",
      "metadata": {
        "id": "JmgQ2wwpKtQP",
        "colab": {
          "base_uri": "https://localhost:8080/",
          "height": 172
        },
        "outputId": "61c0164f-0031-455b-a203-df0846fb3751"
      },
      "source": [
        "2.3 / 'cachorro'"
      ],
      "execution_count": 6,
      "outputs": [
        {
          "output_type": "error",
          "ename": "TypeError",
          "evalue": "ignored",
          "traceback": [
            "\u001b[0;31m---------------------------------------------------------------------------\u001b[0m",
            "\u001b[0;31mTypeError\u001b[0m                                 Traceback (most recent call last)",
            "\u001b[0;32m<ipython-input-6-48ef6fd474fe>\u001b[0m in \u001b[0;36m<module>\u001b[0;34m()\u001b[0m\n\u001b[0;32m----> 1\u001b[0;31m \u001b[0;36m2.3\u001b[0m \u001b[0;34m/\u001b[0m \u001b[0;34m'cachorro'\u001b[0m\u001b[0;34m\u001b[0m\u001b[0;34m\u001b[0m\u001b[0m\n\u001b[0m",
            "\u001b[0;31mTypeError\u001b[0m: unsupported operand type(s) for /: 'float' and 'str'"
          ]
        }
      ]
    },
    {
      "cell_type": "code",
      "metadata": {
        "id": "wxEz8YKiK0Ow",
        "colab": {
          "base_uri": "https://localhost:8080/"
        },
        "outputId": "5a16408f-02b9-4fb7-c726-d99786a4d7fa"
      },
      "source": [
        "c = [1,2,3,4,5]\n",
        "c"
      ],
      "execution_count": 7,
      "outputs": [
        {
          "output_type": "execute_result",
          "data": {
            "text/plain": [
              "[1, 2, 3, 4, 5]"
            ]
          },
          "metadata": {},
          "execution_count": 7
        }
      ]
    },
    {
      "cell_type": "code",
      "metadata": {
        "id": "ZelNQlEQK33g",
        "colab": {
          "base_uri": "https://localhost:8080/",
          "height": 172
        },
        "outputId": "10ca00cb-83ca-489d-9a18-4219f061874d"
      },
      "source": [
        "c[5]"
      ],
      "execution_count": 8,
      "outputs": [
        {
          "output_type": "error",
          "ename": "IndexError",
          "evalue": "ignored",
          "traceback": [
            "\u001b[0;31m---------------------------------------------------------------------------\u001b[0m",
            "\u001b[0;31mIndexError\u001b[0m                                Traceback (most recent call last)",
            "\u001b[0;32m<ipython-input-8-513c54dffebd>\u001b[0m in \u001b[0;36m<module>\u001b[0;34m()\u001b[0m\n\u001b[0;32m----> 1\u001b[0;31m \u001b[0mc\u001b[0m\u001b[0;34m[\u001b[0m\u001b[0;36m5\u001b[0m\u001b[0;34m]\u001b[0m\u001b[0;34m\u001b[0m\u001b[0;34m\u001b[0m\u001b[0m\n\u001b[0m",
            "\u001b[0;31mIndexError\u001b[0m: list index out of range"
          ]
        }
      ]
    },
    {
      "cell_type": "markdown",
      "metadata": {
        "id": "JlSXNf2BA9VJ"
      },
      "source": [
        "## Tratamento de erros"
      ]
    },
    {
      "cell_type": "code",
      "metadata": {
        "id": "UZpDQGWMLDsI",
        "colab": {
          "base_uri": "https://localhost:8080/"
        },
        "outputId": "c9d40bc6-15a3-41ea-abcc-c53dd294701e"
      },
      "source": [
        "try:\n",
        "  n = int(input('Digite um número inteiro: '))\n",
        "except:\n",
        "  print('Valor inválido')\n",
        "else:\n",
        "  print(f'Valor digitado é {n}')"
      ],
      "execution_count": 10,
      "outputs": [
        {
          "output_type": "stream",
          "name": "stdout",
          "text": [
            "Digite um número inteiro: pp\n",
            "Valor inválido\n"
          ]
        }
      ]
    },
    {
      "cell_type": "code",
      "metadata": {
        "id": "nMjA8PPuLtt0",
        "colab": {
          "base_uri": "https://localhost:8080/"
        },
        "outputId": "562b4e6d-9fb2-40bd-f5c1-1bfb0096df36"
      },
      "source": [
        "while True:\n",
        "  try:\n",
        "    n = int(input('Digite um número inteiro: '))\n",
        "  except:\n",
        "    print('Valor inválido')\n",
        "  else:\n",
        "    print(f'Valor digitado é {n}')\n",
        "    break"
      ],
      "execution_count": 12,
      "outputs": [
        {
          "output_type": "stream",
          "name": "stdout",
          "text": [
            "Digite um número inteiro: pu\n",
            "Valor inválido\n",
            "Digite um número inteiro: 10\n",
            "Valor digitado é 10\n"
          ]
        }
      ]
    },
    {
      "cell_type": "code",
      "metadata": {
        "id": "UHlExDgoMK6Z",
        "colab": {
          "base_uri": "https://localhost:8080/"
        },
        "outputId": "67a7403f-0d0c-4b36-8ded-ee3187b36eee"
      },
      "source": [
        "while True:\n",
        "  try:\n",
        "    p = int(input('Digite um número inteiro'))\n",
        "  except ValueError:\n",
        "    print('Valor inválido')\n",
        "  except KeyboardInterrupt:\n",
        "    print('Usuário interrompeu a execução')\n",
        "    break\n",
        "  else:\n",
        "    print(f'Valor digitado é {p}')\n",
        "    break"
      ],
      "execution_count": 13,
      "outputs": [
        {
          "name": "stdout",
          "output_type": "stream",
          "text": [
            "Digite um número inteiropu\n",
            "Valor inválido\n",
            "Digite um número inteiropo\n",
            "Valor inválido\n",
            "Usuário interrompeu a execução\n",
            "Digite um número inteiro10\n"
          ]
        }
      ]
    }
  ]
}