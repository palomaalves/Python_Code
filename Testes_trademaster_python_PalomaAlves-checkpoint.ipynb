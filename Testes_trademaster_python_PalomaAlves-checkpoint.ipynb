{
 "cells": [
  {
   "cell_type": "markdown",
   "metadata": {},
   "source": [
    "Teste para Analista de dados / BI jr na Trademaster."
   ]
  },
  {
   "cell_type": "markdown",
   "metadata": {},
   "source": [
    "**1)** Crie uma função chamada maior_2 que retorne o maior número entre a e b. "
   ]
  },
  {
   "cell_type": "code",
   "execution_count": null,
   "metadata": {},
   "outputs": [],
   "source": [
    "def maior_2(a,b):\n",
    "    max = a\n",
    "    if b > max:\n",
    "        max = b\n",
    "    return max\n",
    "def menu():\n",
    "    a = int(input('Primeiro numero: '))\n",
    "    b = int(input('Segundo numero : '))\n",
    "   \n",
    "    print(\"Maior: \", maior_2(a,b))\n",
    "    print()\n",
    "\n",
    "while True:\n",
    "    menu()\n"
   ]
  },
  {
   "cell_type": "markdown",
   "metadata": {},
   "source": [
    "**2)** Utilizando **APENAS** a função maior_2 criada acima, retorne o maior número entre a, b, c.\n",
    "\n",
    "exemplo:\n",
    "\n",
    "a = 9  \n",
    "b = 1  \n",
    "c = 13  \n",
    "  \n",
    "ou  \n",
    "\n",
    "a = 12  \n",
    "b = 3  \n",
    "c = 8  "
   ]
  },
  {
   "cell_type": "code",
   "execution_count": null,
   "metadata": {},
   "outputs": [],
   "source": [
    "def maior_2(a,b):\n",
    "    max = a\n",
    "    if b > max:\n",
    "        max = b\n",
    "    return max\n",
    "a = int(input('Primeiro numero: '))\n",
    "b = int(input('Segundo numero : '))\n",
    "c = int(input('Terceiro numero : '))\n",
    "\n",
    "print(maior_2(maior_2(a,b),c))\n"
   ]
  },
  {
   "cell_type": "markdown",
   "metadata": {},
   "source": [
    "**3)** Crie um programa para somar todos os pares entre $2$ e $99$. "
   ]
  },
  {
   "cell_type": "code",
   "execution_count": null,
   "metadata": {},
   "outputs": [],
   "source": [
    "soma= 0\n",
    "cont=0\n",
    "\n",
    "for x in range(2,100):\n",
    "    if x % 2 == 0:\n",
    "        soma = soma + x\n",
    "        cont = cont + 1\n",
    "print('Foram {} numeros e a soma foi {}'. format(cont, soma))    \n"
   ]
  },
  {
   "cell_type": "markdown",
   "metadata": {},
   "source": [
    "**[4]** Crie um programa para imprimir uma agenda diária com horários de $15$ em $15$ minutos, conforme a listagem a seguir.\n",
    "\n",
    "```\n",
    "00:00\n",
    "00:15\n",
    "00:30\n",
    "00:45\n",
    "01:00\n",
    "01:15\n",
    "...\n",
    "23:30\n",
    "23:45\n",
    "00:00\n",
    "```\n",
    "\n",
    "Se a sua saída for:  \n",
    "\n",
    "```\n",
    "0:00\n",
    "0:15\n",
    "0:30\n",
    "...\n",
    "``` \n",
    "\n",
    "Já é aceita.\n",
    "\n",
    "Dica: use range(24)"
   ]
  },
  {
   "cell_type": "code",
   "execution_count": null,
   "metadata": {},
   "outputs": [],
   "source": [
    "from datetime import datetime, timedelta\n",
    "\n",
    "def datetime_range(start, end, delta):\n",
    "    current=start\n",
    "    while current < end:\n",
    "        yield current\n",
    "        current +=delta\n",
    "dts=[dt.strftime('%H:%M') for dt in datetime_range(datetime(2021,11,18), datetime(2021,11,19), timedelta(minutes=15))] \n",
    "\n",
    "print(dts)\n",
    "\n"
   ]
  },
  {
   "cell_type": "markdown",
   "metadata": {},
   "source": [
    "**05)** A série de Fettuccine pode ser descrita como similar à de Fibonacci. A relação de recorrência para seus elementos é dada a seguir.\n",
    "\n",
    "$Fet_{n} = Fet_{n-3} * Fet_{n-2} * Fet_{n-1}$, para $n \\geq 3$\n",
    "\n",
    "$Fet_{0} = 1$\n",
    "\n",
    "$Fet_{1} = 1$ \n",
    "\n",
    "$Fet_{2} = 2$\n",
    "\n",
    "Escreva um programa para calcular $Fet_{n}$. onde n = 5"
   ]
  },
  {
   "cell_type": "code",
   "execution_count": null,
   "metadata": {},
   "outputs": [],
   "source": [
    "n1 = n2 = int()\n",
    "serie = int(0)\n",
    "\n",
    "n1 = int(input(\"Informe o valor de n1\"))\n",
    "n2 = int(input(\"Informe o valor de n2\"))\n",
    "\n",
    "print(n1, end=\", \")\n",
    "print(n2, end=\", \")\n",
    "\n",
    "for i in range (1,6):\n",
    "    if(i % 2 == 0):\n",
    "        serie = n2 - n1\n",
    "    else:\n",
    "        serie = n2 + n1\n",
    "    \n",
    "    n1 = n2\n",
    "    n2 = serie\n",
    "    \n",
    "    print(serie, end=\", \")"
   ]
  },
  {
   "cell_type": "code",
   "execution_count": 4,
   "id": "fd4f4e70",
   "metadata": {},
   "outputs": [
    {
     "data": {
      "text/plain": [
       "{0: 0.07953835805867555,\n",
       " 1: 0.09868350479801168,\n",
       " 2: -1.4903462811471024,\n",
       " 3: -0.11162053251753645,\n",
       " 4: 1.0243452078185886,\n",
       " 5: -1.0555129052081378,\n",
       " 6: 0.7382730654638512}"
      ]
     },
     "execution_count": 4,
     "metadata": {},
     "output_type": "execute_result"
    }
   ],
   "source": [
    "import numpy as np\n",
    "data ={ i : np.random.randn() for i in range(7)}\n",
    "data"
   ]
  },
  {
   "cell_type": "code",
   "execution_count": 6,
   "id": "21006455",
   "metadata": {},
   "outputs": [
    {
     "name": "stdout",
     "output_type": "stream",
     "text": [
      "\u001b[1;31mType:\u001b[0m        list\n",
      "\u001b[1;31mString form:\u001b[0m [1, 23, 45, 6, 7, 8, 45, 78, 2]\n",
      "\u001b[1;31mLength:\u001b[0m      9\n",
      "\u001b[1;31mDocstring:\u001b[0m  \n",
      "Built-in mutable sequence.\n",
      "\n",
      "If no argument is given, the constructor creates a new empty list.\n",
      "The argument must be an iterable if specified.\n"
     ]
    }
   ],
   "source": [
    "a=[1,23,45,6,7,8,45,78]\n",
    "a.append(2)\n",
    "a?"
   ]
  },
  {
   "cell_type": "code",
   "execution_count": null,
   "id": "af396d99",
   "metadata": {},
   "outputs": [],
   "source": []
  }
 ],
 "metadata": {
  "kernelspec": {
   "display_name": "Python 3",
   "language": "python",
   "name": "python3"
  },
  "language_info": {
   "codemirror_mode": {
    "name": "ipython",
    "version": 3
   },
   "file_extension": ".py",
   "mimetype": "text/x-python",
   "name": "python",
   "nbconvert_exporter": "python",
   "pygments_lexer": "ipython3",
   "version": "3.8.5"
  }
 },
 "nbformat": 4,
 "nbformat_minor": 5
}
