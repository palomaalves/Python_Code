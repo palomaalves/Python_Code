{
  "nbformat": 4,
  "nbformat_minor": 0,
  "metadata": {
    "colab": {
      "name": "Python Exercício Orientação a Objetos.ipynb",
      "provenance": [],
      "collapsed_sections": [],
      "include_colab_link": true
    },
    "kernelspec": {
      "name": "python3",
      "display_name": "Python 3"
    }
  },
  "cells": [
    {
      "cell_type": "markdown",
      "metadata": {
        "id": "view-in-github",
        "colab_type": "text"
      },
      "source": [
        "<a href=\"https://colab.research.google.com/github/palomaalves/Python_Code/blob/main/Python_Exerc%C3%ADcio_Orienta%C3%A7%C3%A3o_a_Objetos.ipynb\" target=\"_parent\"><img src=\"https://colab.research.google.com/assets/colab-badge.svg\" alt=\"Open In Colab\"/></a>"
      ]
    },
    {
      "cell_type": "markdown",
      "metadata": {
        "id": "c9BudZ2gNE2n"
      },
      "source": [
        "# Exercício 1\n",
        "\n",
        "Crie uma classe chamada aluno com os seguintes atributos:\n",
        "\n",
        "- Nome\n",
        "- Nota 1\n",
        "- Nota 2\n",
        "- Crie um construtor para a classe (__init__)\n",
        "\n",
        "Crie as seguintes funções (métodos):\n",
        "\n",
        "- Calcula média, retornando a média aritmética entre as notas\n",
        "- Mostra dados, que somente imprime o valor de todos os atributos\n",
        "- Resultado, que verifica se o aluno está aprovado ou reprovado (se a média for maior ou igual a 6.0, o aluno está aprovado)\n",
        "\n",
        "Crie dois objetos (aluno1 e aluno2) e teste as funções"
      ]
    },
    {
      "cell_type": "code",
      "metadata": {
        "id": "iYgw0XGvM0Xz"
      },
      "source": [
        "class Aluno:\n",
        "  def __init__(self, nome, nota1, nota2):\n",
        "    self.nome = nome\n",
        "    self.nota1 = nota1\n",
        "    self.nota2 = nota2\n",
        "    self.media = 0.0\n",
        "   \n",
        "  def calcula_media(self):\n",
        "    self.media = (self.nota1 + self.nota2) / 2\n",
        "    return self.media\n",
        "\n",
        "  def mostra_dados(self):\n",
        "    print('Nome: ', self.nome)\n",
        "    print('Nota 1:', self.nota1)\n",
        "    print('Nota 2:', self.nota2)\n",
        "    print('Média:', self.media)\n",
        "  \n",
        "  def resultado(self):\n",
        "    if self.media >= 6.0:\n",
        "      print('Aprovado')\n",
        "    else:\n",
        "      print('Reprovado')"
      ],
      "execution_count": 1,
      "outputs": []
    },
    {
      "cell_type": "code",
      "metadata": {
        "id": "SgoLAF2olPjT",
        "colab": {
          "base_uri": "https://localhost:8080/"
        },
        "outputId": "3463ecc6-55d0-43c1-e9e9-a6a9c6d079d4"
      },
      "source": [
        "aluno1 = Aluno('Pedro', 7.0, 9.0)\n",
        "media = aluno1.calcula_media()\n",
        "print(media)"
      ],
      "execution_count": 2,
      "outputs": [
        {
          "output_type": "stream",
          "name": "stdout",
          "text": [
            "8.0\n"
          ]
        }
      ]
    },
    {
      "cell_type": "code",
      "metadata": {
        "id": "tyhDR5YylcQN",
        "colab": {
          "base_uri": "https://localhost:8080/"
        },
        "outputId": "9ba079d2-83da-4c3c-bb53-9a38d3f90428"
      },
      "source": [
        "aluno1.mostra_dados()"
      ],
      "execution_count": 3,
      "outputs": [
        {
          "output_type": "stream",
          "name": "stdout",
          "text": [
            "Nome:  Pedro\n",
            "Nota 1: 7.0\n",
            "Nota 2: 9.0\n",
            "Média: 8.0\n"
          ]
        }
      ]
    },
    {
      "cell_type": "code",
      "metadata": {
        "id": "qmVKMNZ_lfY8",
        "colab": {
          "base_uri": "https://localhost:8080/"
        },
        "outputId": "36684f82-40e3-4fb6-f380-fa6578da86e5"
      },
      "source": [
        "aluno1.resultado()"
      ],
      "execution_count": 4,
      "outputs": [
        {
          "output_type": "stream",
          "name": "stdout",
          "text": [
            "Aprovado\n"
          ]
        }
      ]
    },
    {
      "cell_type": "code",
      "metadata": {
        "id": "-8S0WXQ8liYa",
        "colab": {
          "base_uri": "https://localhost:8080/"
        },
        "outputId": "4dd7e3c3-b874-4f4c-b462-bacdd8d11537"
      },
      "source": [
        "aluno2 = Aluno('João', 7.0, 2.0)\n",
        "media = aluno2.calcula_media()\n",
        "aluno2.mostra_dados()\n",
        "aluno2.resultado()"
      ],
      "execution_count": 5,
      "outputs": [
        {
          "output_type": "stream",
          "name": "stdout",
          "text": [
            "Nome:  João\n",
            "Nota 1: 7.0\n",
            "Nota 2: 2.0\n",
            "Média: 4.5\n",
            "Reprovado\n"
          ]
        }
      ]
    }
  ]
}