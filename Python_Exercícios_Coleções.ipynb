{
  "nbformat": 4,
  "nbformat_minor": 0,
  "metadata": {
    "colab": {
      "name": "Python Exercícios Coleções.ipynb",
      "provenance": [],
      "collapsed_sections": [],
      "include_colab_link": true
    },
    "kernelspec": {
      "name": "python3",
      "display_name": "Python 3"
    }
  },
  "cells": [
    {
      "cell_type": "markdown",
      "metadata": {
        "id": "view-in-github",
        "colab_type": "text"
      },
      "source": [
        "<a href=\"https://colab.research.google.com/github/palomaalves/Python_Code/blob/main/Python_Exerc%C3%ADcios_Cole%C3%A7%C3%B5es.ipynb\" target=\"_parent\"><img src=\"https://colab.research.google.com/assets/colab-badge.svg\" alt=\"Open In Colab\"/></a>"
      ]
    },
    {
      "cell_type": "markdown",
      "metadata": {
        "id": "c9BudZ2gNE2n"
      },
      "source": [
        "# Exercício 1 - listas\n",
        "\n",
        "Crie uma estrutura de repetição para fazer a leitura de 5 números inteiros e os armazene dentro de uma lista. Após a leitura, crie outra estrutura de repetição para somar todos os valores digitados"
      ]
    },
    {
      "cell_type": "code",
      "metadata": {
        "id": "VVxui4nim6Xk",
        "colab": {
          "base_uri": "https://localhost:8080/"
        },
        "outputId": "c45ec9ea-3137-46b1-8df3-edcb89a4ae5d"
      },
      "source": [
        "lista = []\n",
        "for _ in range(1, 6):\n",
        "  valor = int(input('Digite o valor: '))\n",
        "  lista.append(valor)"
      ],
      "execution_count": 1,
      "outputs": [
        {
          "name": "stdout",
          "output_type": "stream",
          "text": [
            "Digite o valor: 5\n",
            "Digite o valor: 4\n",
            "Digite o valor: 7\n",
            "Digite o valor: 42\n",
            "Digite o valor: 74\n"
          ]
        }
      ]
    },
    {
      "cell_type": "code",
      "metadata": {
        "id": "i5H_wkoinORR",
        "colab": {
          "base_uri": "https://localhost:8080/"
        },
        "outputId": "607fc258-8c04-4921-c237-4613ecfbcb8b"
      },
      "source": [
        "lista"
      ],
      "execution_count": 2,
      "outputs": [
        {
          "output_type": "execute_result",
          "data": {
            "text/plain": [
              "[5, 4, 7, 42, 74]"
            ]
          },
          "metadata": {},
          "execution_count": 2
        }
      ]
    },
    {
      "cell_type": "code",
      "metadata": {
        "id": "8iC4MSq1tU82",
        "colab": {
          "base_uri": "https://localhost:8080/"
        },
        "outputId": "1df272d4-e772-4518-ce7a-d3bf4e525f78"
      },
      "source": [
        "len(lista)"
      ],
      "execution_count": 3,
      "outputs": [
        {
          "output_type": "execute_result",
          "data": {
            "text/plain": [
              "5"
            ]
          },
          "metadata": {},
          "execution_count": 3
        }
      ]
    },
    {
      "cell_type": "code",
      "metadata": {
        "id": "3o0BCJOLnP2g",
        "colab": {
          "base_uri": "https://localhost:8080/"
        },
        "outputId": "61a054d2-b564-4aee-94f4-e9f93d65fdb4"
      },
      "source": [
        "soma = 0\n",
        "for i in range(len(lista)):\n",
        "  print(lista[i])\n",
        "  soma += lista[i]\n",
        "print('Soma: ', soma)"
      ],
      "execution_count": 6,
      "outputs": [
        {
          "output_type": "stream",
          "name": "stdout",
          "text": [
            "5\n",
            "4\n",
            "7\n",
            "42\n",
            "74\n",
            "Soma:  132\n"
          ]
        }
      ]
    },
    {
      "cell_type": "code",
      "metadata": {
        "id": "ZFvLM0m4t1gc",
        "colab": {
          "base_uri": "https://localhost:8080/",
          "height": 172
        },
        "outputId": "e1887bb9-feda-47b1-c2e8-602b16139386"
      },
      "source": [
        "lista.sum()"
      ],
      "execution_count": 5,
      "outputs": [
        {
          "output_type": "error",
          "ename": "AttributeError",
          "evalue": "ignored",
          "traceback": [
            "\u001b[0;31m---------------------------------------------------------------------------\u001b[0m",
            "\u001b[0;31mAttributeError\u001b[0m                            Traceback (most recent call last)",
            "\u001b[0;32m<ipython-input-5-8aeca298dcba>\u001b[0m in \u001b[0;36m<module>\u001b[0;34m()\u001b[0m\n\u001b[0;32m----> 1\u001b[0;31m \u001b[0mlista\u001b[0m\u001b[0;34m.\u001b[0m\u001b[0msum\u001b[0m\u001b[0;34m(\u001b[0m\u001b[0;34m)\u001b[0m\u001b[0;34m\u001b[0m\u001b[0;34m\u001b[0m\u001b[0m\n\u001b[0m",
            "\u001b[0;31mAttributeError\u001b[0m: 'list' object has no attribute 'sum'"
          ]
        }
      ]
    },
    {
      "cell_type": "code",
      "metadata": {
        "id": "fWHgU9oJnn2K",
        "colab": {
          "base_uri": "https://localhost:8080/"
        },
        "outputId": "9afe5d75-dc82-460d-ce38-b07623d27bd3"
      },
      "source": [
        "import numpy as np\n",
        "np.array(lista).sum()"
      ],
      "execution_count": 7,
      "outputs": [
        {
          "output_type": "execute_result",
          "data": {
            "text/plain": [
              "132"
            ]
          },
          "metadata": {},
          "execution_count": 7
        }
      ]
    },
    {
      "cell_type": "markdown",
      "metadata": {
        "id": "fPUAsfsonjUq"
      },
      "source": [
        "# Exercícios 2 - dicionários\n",
        "\n",
        "Crie um dicionário para armazenar o nome e a nota de 3 alunos, fazendo a leitura dos valores por meio de uma estrutura de repetição. Depois, crie uma nova estrutura de repetição para somar todas as notas e retornar a média"
      ]
    },
    {
      "cell_type": "code",
      "metadata": {
        "id": "1l72uOv1oCZR",
        "colab": {
          "base_uri": "https://localhost:8080/"
        },
        "outputId": "45b9c8e6-71b6-422e-d99e-7da4d936565c"
      },
      "source": [
        "alunos = {}\n",
        "for _ in range(1, 4):\n",
        "  nome = input('Digite o nome: ')\n",
        "  nota = float(input('Digite a nota: '))\n",
        "  alunos[nome] = nota "
      ],
      "execution_count": 8,
      "outputs": [
        {
          "name": "stdout",
          "output_type": "stream",
          "text": [
            "Digite o nome: paloma\n",
            "Digite a nota: 10\n",
            "Digite o nome: joao\n",
            "Digite a nota: 5\n",
            "Digite o nome: maria\n",
            "Digite a nota: 6\n"
          ]
        }
      ]
    },
    {
      "cell_type": "code",
      "metadata": {
        "id": "G2P6lolZobRW",
        "colab": {
          "base_uri": "https://localhost:8080/"
        },
        "outputId": "0eeabb61-d373-42ed-9b5b-3c6a070137af"
      },
      "source": [
        "alunos"
      ],
      "execution_count": 9,
      "outputs": [
        {
          "output_type": "execute_result",
          "data": {
            "text/plain": [
              "{'joao': 5.0, 'maria': 6.0, 'paloma': 10.0}"
            ]
          },
          "metadata": {},
          "execution_count": 9
        }
      ]
    },
    {
      "cell_type": "code",
      "metadata": {
        "id": "uS4j6fZYpByn",
        "colab": {
          "base_uri": "https://localhost:8080/"
        },
        "outputId": "9f573bba-5877-493a-d1ae-7b657d940a26"
      },
      "source": [
        "alunos['maria']"
      ],
      "execution_count": 10,
      "outputs": [
        {
          "output_type": "execute_result",
          "data": {
            "text/plain": [
              "6.0"
            ]
          },
          "metadata": {},
          "execution_count": 10
        }
      ]
    },
    {
      "cell_type": "code",
      "metadata": {
        "id": "4HBJVAuEodmI",
        "colab": {
          "base_uri": "https://localhost:8080/"
        },
        "outputId": "b8c4ab94-775e-4883-8f56-bcc23aee08c4"
      },
      "source": [
        "alunos.values()"
      ],
      "execution_count": 11,
      "outputs": [
        {
          "output_type": "execute_result",
          "data": {
            "text/plain": [
              "dict_values([10.0, 5.0, 6.0])"
            ]
          },
          "metadata": {},
          "execution_count": 11
        }
      ]
    },
    {
      "cell_type": "code",
      "metadata": {
        "id": "WqpxxH5GpUgW",
        "colab": {
          "base_uri": "https://localhost:8080/"
        },
        "outputId": "5d09024a-2c60-45df-e313-e75421bc3c49"
      },
      "source": [
        "soma = 0\n",
        "for nota in alunos.values():\n",
        "  print(nota)\n",
        "  soma += nota\n",
        "print('Média: ', soma / 3)"
      ],
      "execution_count": 12,
      "outputs": [
        {
          "output_type": "stream",
          "name": "stdout",
          "text": [
            "10.0\n",
            "5.0\n",
            "6.0\n",
            "Média:  7.0\n"
          ]
        }
      ]
    },
    {
      "cell_type": "markdown",
      "metadata": {
        "id": "9CJi3c3zprrp"
      },
      "source": [
        "# Exercício 3: Matriz\n",
        "\n",
        "Dada a matriz abaixo, construa uma estrutura de repetição para percorrer e somar todos os elementos da matriz"
      ]
    },
    {
      "cell_type": "code",
      "metadata": {
        "id": "-NkeiH0Ap0zT",
        "colab": {
          "base_uri": "https://localhost:8080/"
        },
        "outputId": "6b91c37c-bbcb-4132-cefb-dba741e516e7"
      },
      "source": [
        "matriz = np.array([[3, 4, 1],\n",
        "                   [3, 1, 5]])\n",
        "matriz"
      ],
      "execution_count": 13,
      "outputs": [
        {
          "output_type": "execute_result",
          "data": {
            "text/plain": [
              "array([[3, 4, 1],\n",
              "       [3, 1, 5]])"
            ]
          },
          "metadata": {},
          "execution_count": 13
        }
      ]
    },
    {
      "cell_type": "code",
      "metadata": {
        "id": "clrFxS5tqCb-",
        "colab": {
          "base_uri": "https://localhost:8080/"
        },
        "outputId": "2252bcdb-e951-4b4d-d51d-9583f5028b8d"
      },
      "source": [
        "matriz.shape"
      ],
      "execution_count": 14,
      "outputs": [
        {
          "output_type": "execute_result",
          "data": {
            "text/plain": [
              "(2, 3)"
            ]
          },
          "metadata": {},
          "execution_count": 14
        }
      ]
    },
    {
      "cell_type": "code",
      "metadata": {
        "id": "DGlq3rtvp9Km",
        "colab": {
          "base_uri": "https://localhost:8080/"
        },
        "outputId": "f873d0e7-bc6c-4b9d-a8c1-81a018e93f07"
      },
      "source": [
        "soma = 0\n",
        "for i in range(matriz.shape[0]):\n",
        "  for j in range(matriz.shape[1]):\n",
        "    print(matriz[i][j])\n",
        "    soma += matriz[i][j]\n",
        "print('Soma: ', soma)"
      ],
      "execution_count": 15,
      "outputs": [
        {
          "output_type": "stream",
          "name": "stdout",
          "text": [
            "3\n",
            "4\n",
            "1\n",
            "3\n",
            "1\n",
            "5\n",
            "Soma:  17\n"
          ]
        }
      ]
    }
  ]
}