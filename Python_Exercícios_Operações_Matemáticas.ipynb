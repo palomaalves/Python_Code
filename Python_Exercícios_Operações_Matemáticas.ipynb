{
  "nbformat": 4,
  "nbformat_minor": 0,
  "metadata": {
    "colab": {
      "name": "Python Exercícios Operações Matemáticas.ipynb",
      "provenance": [],
      "collapsed_sections": [],
      "include_colab_link": true
    },
    "kernelspec": {
      "name": "python3",
      "display_name": "Python 3"
    }
  },
  "cells": [
    {
      "cell_type": "markdown",
      "metadata": {
        "id": "view-in-github",
        "colab_type": "text"
      },
      "source": [
        "<a href=\"https://colab.research.google.com/github/palomaalves/Python_Code/blob/main/Python_Exerc%C3%ADcios_Opera%C3%A7%C3%B5es_Matem%C3%A1ticas.ipynb\" target=\"_parent\"><img src=\"https://colab.research.google.com/assets/colab-badge.svg\" alt=\"Open In Colab\"/></a>"
      ]
    },
    {
      "cell_type": "markdown",
      "metadata": {
        "id": "c9BudZ2gNE2n"
      },
      "source": [
        "# Exercício 1\n",
        "\n",
        "Ler dois números inteiros, executar e mostrar o resultado das seguintes operações: adição, subtração, multiplicação e divisão\n"
      ]
    },
    {
      "cell_type": "code",
      "metadata": {
        "id": "iYgw0XGvM0Xz",
        "colab": {
          "base_uri": "https://localhost:8080/"
        },
        "outputId": "52d7d863-0874-45e8-d07d-00cd2ff72349"
      },
      "source": [
        "numero1 = int(input('Digite o primeiro número: '))\n",
        "numero2 = int(input('Digite o segundo número: '))"
      ],
      "execution_count": 1,
      "outputs": [
        {
          "name": "stdout",
          "output_type": "stream",
          "text": [
            "Digite o primeiro número: 10\n",
            "Digite o segundo número: 3\n"
          ]
        }
      ]
    },
    {
      "cell_type": "code",
      "metadata": {
        "id": "4iPC34bCkDUF",
        "colab": {
          "base_uri": "https://localhost:8080/"
        },
        "outputId": "4cf652b3-37ca-415b-e044-57cd988d702d"
      },
      "source": [
        "print(numero1, numero2)"
      ],
      "execution_count": 3,
      "outputs": [
        {
          "output_type": "stream",
          "name": "stdout",
          "text": [
            "10 3\n"
          ]
        }
      ]
    },
    {
      "cell_type": "code",
      "metadata": {
        "id": "Dy_UFha_Nb8o"
      },
      "source": [
        "adicao = numero1 + numero2\n",
        "subtracao = numero1 - numero2\n",
        "multiplicacao = numero1 * numero2\n",
        "divisao = numero1 / numero2"
      ],
      "execution_count": 4,
      "outputs": []
    },
    {
      "cell_type": "code",
      "metadata": {
        "id": "59F8tj9qNnuF",
        "colab": {
          "base_uri": "https://localhost:8080/"
        },
        "outputId": "a88f5575-49a3-4fe2-f6dd-7b9168a57b88"
      },
      "source": [
        "print('Adição: ', adicao)\n",
        "print('Subtração: ', subtracao)\n",
        "print('Multiplicação: ', multiplicacao)\n",
        "print('Divisão: ', round(divisao, 2))"
      ],
      "execution_count": 5,
      "outputs": [
        {
          "output_type": "stream",
          "name": "stdout",
          "text": [
            "Adição:  13\n",
            "Subtração:  7\n",
            "Multiplicação:  30\n",
            "Divisão:  3.33\n"
          ]
        }
      ]
    },
    {
      "cell_type": "markdown",
      "metadata": {
        "id": "QK3YAlgdN0t3"
      },
      "source": [
        "# Exercício 2\n",
        "\n",
        "Efetuar o cálculo da quantidade de litros de combustível gasto em uma viagem, utilizando um automóvel que faz 12 Km por litro. Para obter o cálculo, o usuário deve fornecer o tempo gasto na viagem e a velocidade média durante ela. Desta forma, será possível obter a distância percorrida com a fórmula DISTANCIA = TEMPO * VELOCIDADE. Tendo o valor da distância, basta calcular a quantidade de litros de combustível utilizada na viagem, com a fórmula: LITROS_USADOS = DISTANCIA / 12. O programa deve apresentar os valores da velocidade média, tempo gasto na viagem, a distância percorrida e a quantidade de litros utilizada na viagem"
      ]
    },
    {
      "cell_type": "code",
      "metadata": {
        "id": "FIz6i8_LOByQ",
        "colab": {
          "base_uri": "https://localhost:8080/"
        },
        "outputId": "026a6328-6e98-4ee3-b842-6181920c2e34"
      },
      "source": [
        "tempo = float(input('Digite o tempo gasto na viagem: '))\n",
        "velocidade = float(input('Digite a velocidade média: '))"
      ],
      "execution_count": 6,
      "outputs": [
        {
          "name": "stdout",
          "output_type": "stream",
          "text": [
            "Digite o tempo gasto na viagem: 4\n",
            "Digite a velocidade média: 100\n"
          ]
        }
      ]
    },
    {
      "cell_type": "code",
      "metadata": {
        "id": "-GFuR-Vpkh6C",
        "colab": {
          "base_uri": "https://localhost:8080/"
        },
        "outputId": "538de78e-2391-4336-f402-d7fef4e8ef94"
      },
      "source": [
        "print(tempo, velocidade)"
      ],
      "execution_count": 7,
      "outputs": [
        {
          "output_type": "stream",
          "name": "stdout",
          "text": [
            "4.0 100.0\n"
          ]
        }
      ]
    },
    {
      "cell_type": "code",
      "metadata": {
        "id": "g1-4CUlMORsU"
      },
      "source": [
        "distancia = tempo * velocidade\n",
        "litros_usados = distancia / 12"
      ],
      "execution_count": 8,
      "outputs": []
    },
    {
      "cell_type": "code",
      "metadata": {
        "id": "9uVrqKjhOcAV",
        "colab": {
          "base_uri": "https://localhost:8080/"
        },
        "outputId": "c78a8cf6-85de-4bde-aef8-e9e1c516f422"
      },
      "source": [
        "print('Velocidade média: ', velocidade)\n",
        "print('Tempo gasto na viagem: ', tempo)\n",
        "print('Distância percorrida:', distancia)\n",
        "print('Quantidade de litros:', round(litros_usados,1))"
      ],
      "execution_count": 9,
      "outputs": [
        {
          "output_type": "stream",
          "name": "stdout",
          "text": [
            "Velocidade média:  100.0\n",
            "Tempo gasto na viagem:  4.0\n",
            "Distância percorrida: 400.0\n",
            "Quantidade de litros: 33.3\n"
          ]
        }
      ]
    }
  ]
}