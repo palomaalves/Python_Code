{
  "nbformat": 4,
  "nbformat_minor": 0,
  "metadata": {
    "colab": {
      "name": "Manipulação de arquivos.ipynb",
      "provenance": [],
      "collapsed_sections": [],
      "include_colab_link": true
    },
    "kernelspec": {
      "name": "python3",
      "display_name": "Python 3"
    }
  },
  "cells": [
    {
      "cell_type": "markdown",
      "metadata": {
        "id": "view-in-github",
        "colab_type": "text"
      },
      "source": [
        "<a href=\"https://colab.research.google.com/github/palomaalves/Python_Code/blob/main/Manipula%C3%A7%C3%A3o_de_arquivos.ipynb\" target=\"_parent\"><img src=\"https://colab.research.google.com/assets/colab-badge.svg\" alt=\"Open In Colab\"/></a>"
      ]
    },
    {
      "cell_type": "markdown",
      "metadata": {
        "id": "2mwCD5b1rYff"
      },
      "source": [
        "# Manipulação de arquivos"
      ]
    },
    {
      "cell_type": "code",
      "metadata": {
        "id": "fQX8nMCBrNJa"
      },
      "source": [
        "with open('frase1.txt', 'w') as texto:\n",
        "  texto.write('Olá\\n' 'Estou aprendendo \\n' 'a linguagem Python\\n' 'E estou gostando muito')"
      ],
      "execution_count": 4,
      "outputs": []
    },
    {
      "cell_type": "code",
      "metadata": {
        "id": "ArTonogGOsJn",
        "colab": {
          "base_uri": "https://localhost:8080/"
        },
        "outputId": "dd1e8f3d-d5f7-4d0d-afab-2281b97310e4"
      },
      "source": [
        "with open('/content/frase1.txt', 'r') as tex:\n",
        "  for linha in tex:\n",
        "    print(linha)"
      ],
      "execution_count": 5,
      "outputs": [
        {
          "output_type": "stream",
          "name": "stdout",
          "text": [
            "Olá\n",
            "\n",
            "Estou aprendendo \n",
            "\n",
            "a linguagem Python\n",
            "\n",
            "E estou gostando muito\n"
          ]
        }
      ]
    },
    {
      "cell_type": "code",
      "metadata": {
        "id": "wcWclSzJPFIL"
      },
      "source": [
        "with open('/content/frase1.txt') as tex:\n",
        "  r = tex.readlines() #transforma numa lista"
      ],
      "execution_count": 6,
      "outputs": []
    },
    {
      "cell_type": "code",
      "metadata": {
        "id": "U3uJreD9PLvj",
        "colab": {
          "base_uri": "https://localhost:8080/"
        },
        "outputId": "2e1e4ab1-49ca-450d-d665-f0fc21c2d18f"
      },
      "source": [
        "r"
      ],
      "execution_count": 8,
      "outputs": [
        {
          "output_type": "execute_result",
          "data": {
            "text/plain": [
              "['Olá\\n',\n",
              " 'Estou aprendendo \\n',\n",
              " 'a linguagem Python\\n',\n",
              " 'E estou gostando muito']"
            ]
          },
          "metadata": {},
          "execution_count": 8
        }
      ]
    },
    {
      "cell_type": "code",
      "metadata": {
        "id": "6dq9eo69PWrb"
      },
      "source": [
        "with open('texto2.txt', 'w') as texto:\n",
        "  texto.write('Olá a todos')"
      ],
      "execution_count": 9,
      "outputs": []
    },
    {
      "cell_type": "code",
      "metadata": {
        "id": "NdKoO4PoPvzP",
        "colab": {
          "base_uri": "https://localhost:8080/"
        },
        "outputId": "89ccdedd-1ef6-40ec-d4e0-fd09ca8f0f6b"
      },
      "source": [
        "with open('texto2.txt', 'r') as tex:\n",
        "  for linha in tex:\n",
        "    print(linha)"
      ],
      "execution_count": 10,
      "outputs": [
        {
          "output_type": "stream",
          "name": "stdout",
          "text": [
            "Olá a todos\n"
          ]
        }
      ]
    },
    {
      "cell_type": "markdown",
      "metadata": {
        "id": "9m2wjB4qsX9o"
      },
      "source": [
        "# Exercício\n",
        "\n",
        "Considerando o dicionário com o nome dos alunos e suas respectivas notas, crie uma estrutura de repetição para percorrer cada elemento do dicionário para gravar cada aluno em um novo arquivo de texto\n",
        "- Cada aluno deve ocupar uma linha do novo arquivo de texto\n",
        "- O formato deve ser: nome,nota (Pedro,8.0)\n",
        "- Após a criação do arquivo de texto, faça a leitura do arquivo e mostre todos os alunos"
      ]
    },
    {
      "cell_type": "code",
      "metadata": {
        "id": "i9Uj6S7183lN",
        "colab": {
          "base_uri": "https://localhost:8080/"
        },
        "outputId": "6208850c-f8ee-4f5f-aeed-e6b240f37391"
      },
      "source": [
        "alunos = {'Pedro': 8.0, 'Maria': 10.0, 'Amilton': 7.5}\n",
        "alunos"
      ],
      "execution_count": 11,
      "outputs": [
        {
          "output_type": "execute_result",
          "data": {
            "text/plain": [
              "{'Amilton': 7.5, 'Maria': 10.0, 'Pedro': 8.0}"
            ]
          },
          "metadata": {},
          "execution_count": 11
        }
      ]
    },
    {
      "cell_type": "code",
      "metadata": {
        "id": "WYkVdNHh9QH1"
      },
      "source": [
        "with open('alunos.txt', 'w') as arquivo:\n",
        "  for aluno, nota in alunos.items():\n",
        "    arquivo.write(f'{aluno}, {nota}\\n')"
      ],
      "execution_count": 14,
      "outputs": []
    },
    {
      "cell_type": "code",
      "metadata": {
        "colab": {
          "base_uri": "https://localhost:8080/"
        },
        "id": "y7YUBnuvsX9_",
        "outputId": "2b0d64a9-e5e1-4397-cd7d-bd6c7d466f91"
      },
      "source": [
        "with open('alunos.txt', 'r') as arquivo:\n",
        "  for linha in arquivo:\n",
        "    print(linha)"
      ],
      "execution_count": 15,
      "outputs": [
        {
          "output_type": "stream",
          "name": "stdout",
          "text": [
            "Pedro, 8.0\n",
            "\n",
            "Maria, 10.0\n",
            "\n",
            "Amilton, 7.5\n",
            "\n"
          ]
        }
      ]
    }
  ]
}