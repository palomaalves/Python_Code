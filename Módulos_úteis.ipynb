{
  "nbformat": 4,
  "nbformat_minor": 0,
  "metadata": {
    "colab": {
      "name": "Módulos úteis.ipynb",
      "provenance": [],
      "collapsed_sections": [],
      "include_colab_link": true
    },
    "kernelspec": {
      "name": "python3",
      "display_name": "Python 3"
    }
  },
  "cells": [
    {
      "cell_type": "markdown",
      "metadata": {
        "id": "view-in-github",
        "colab_type": "text"
      },
      "source": [
        "<a href=\"https://colab.research.google.com/github/palomaalves/Python_Code/blob/main/M%C3%B3dulos_%C3%BAteis.ipynb\" target=\"_parent\"><img src=\"https://colab.research.google.com/assets/colab-badge.svg\" alt=\"Open In Colab\"/></a>"
      ]
    },
    {
      "cell_type": "markdown",
      "metadata": {
        "id": "MwcHdTIT8XLe"
      },
      "source": [
        "# Módulos úteis"
      ]
    },
    {
      "cell_type": "markdown",
      "metadata": {
        "id": "WHdSo8Zh8dj3"
      },
      "source": [
        "## Biblioteca math\n",
        "\n",
        "https://docs.python.org/3/library/math.html"
      ]
    },
    {
      "cell_type": "code",
      "metadata": {
        "id": "u6cAQHQo-ksC"
      },
      "source": [
        "import math"
      ],
      "execution_count": 1,
      "outputs": []
    },
    {
      "cell_type": "code",
      "metadata": {
        "id": "O2Dt-oX2-vAB",
        "colab": {
          "base_uri": "https://localhost:8080/"
        },
        "outputId": "44b8eac3-e7a0-4ff9-ff0c-49f098f23db8"
      },
      "source": [
        "math.sqrt(9)"
      ],
      "execution_count": 2,
      "outputs": [
        {
          "output_type": "execute_result",
          "data": {
            "text/plain": [
              "3.0"
            ]
          },
          "metadata": {},
          "execution_count": 2
        }
      ]
    },
    {
      "cell_type": "code",
      "metadata": {
        "id": "oP6I2Go8-2rk",
        "colab": {
          "base_uri": "https://localhost:8080/"
        },
        "outputId": "121008d6-99fb-460b-9c82-e9cd8ddd83a9"
      },
      "source": [
        "math.sin(45)"
      ],
      "execution_count": 3,
      "outputs": [
        {
          "output_type": "execute_result",
          "data": {
            "text/plain": [
              "0.8509035245341184"
            ]
          },
          "metadata": {},
          "execution_count": 3
        }
      ]
    },
    {
      "cell_type": "code",
      "metadata": {
        "id": "lbGQPZyv-6Ol",
        "colab": {
          "base_uri": "https://localhost:8080/"
        },
        "outputId": "cae9b285-b1ea-494b-a3e7-c68b5dc863c6"
      },
      "source": [
        "math.cos(45)"
      ],
      "execution_count": 4,
      "outputs": [
        {
          "output_type": "execute_result",
          "data": {
            "text/plain": [
              "0.5253219888177297"
            ]
          },
          "metadata": {},
          "execution_count": 4
        }
      ]
    },
    {
      "cell_type": "code",
      "metadata": {
        "id": "_SOdHMQH-9j6",
        "colab": {
          "base_uri": "https://localhost:8080/"
        },
        "outputId": "5bc48739-da63-40ef-bc51-5fd2eec8f51c"
      },
      "source": [
        "math.log(1000, 10)"
      ],
      "execution_count": 5,
      "outputs": [
        {
          "output_type": "execute_result",
          "data": {
            "text/plain": [
              "2.9999999999999996"
            ]
          },
          "metadata": {},
          "execution_count": 5
        }
      ]
    },
    {
      "cell_type": "code",
      "metadata": {
        "id": "0l-7gwBD_D79",
        "colab": {
          "base_uri": "https://localhost:8080/"
        },
        "outputId": "04aa30a5-a23d-4d83-d54a-715eb59a1439"
      },
      "source": [
        "math.log(32, 2)"
      ],
      "execution_count": 6,
      "outputs": [
        {
          "output_type": "execute_result",
          "data": {
            "text/plain": [
              "5.0"
            ]
          },
          "metadata": {},
          "execution_count": 6
        }
      ]
    },
    {
      "cell_type": "code",
      "metadata": {
        "id": "g1RLwvrN_H_V",
        "colab": {
          "base_uri": "https://localhost:8080/"
        },
        "outputId": "e49af2d5-5236-41d6-8109-1e17ba03a94d"
      },
      "source": [
        "math.log(1000)"
      ],
      "execution_count": 7,
      "outputs": [
        {
          "output_type": "execute_result",
          "data": {
            "text/plain": [
              "6.907755278982137"
            ]
          },
          "metadata": {},
          "execution_count": 7
        }
      ]
    },
    {
      "cell_type": "code",
      "metadata": {
        "id": "o6BDsZTH_NSD",
        "colab": {
          "base_uri": "https://localhost:8080/"
        },
        "outputId": "8011ba5f-78d4-4495-8a95-2cc0bb889005"
      },
      "source": [
        "math.e"
      ],
      "execution_count": 8,
      "outputs": [
        {
          "output_type": "execute_result",
          "data": {
            "text/plain": [
              "2.718281828459045"
            ]
          },
          "metadata": {},
          "execution_count": 8
        }
      ]
    },
    {
      "cell_type": "code",
      "metadata": {
        "id": "XHp0onHY_SBt",
        "colab": {
          "base_uri": "https://localhost:8080/"
        },
        "outputId": "b73243cb-0e8c-4c4f-f76b-49c52a25f18a"
      },
      "source": [
        "math.pi"
      ],
      "execution_count": 9,
      "outputs": [
        {
          "output_type": "execute_result",
          "data": {
            "text/plain": [
              "3.141592653589793"
            ]
          },
          "metadata": {},
          "execution_count": 9
        }
      ]
    },
    {
      "cell_type": "markdown",
      "metadata": {
        "id": "roxeqfCm86Xv"
      },
      "source": [
        "## Biblioteca datetime\n",
        "\n",
        "https://docs.python.org/3/library/datetime.html"
      ]
    },
    {
      "cell_type": "code",
      "metadata": {
        "id": "xHrk2_CW_bdq"
      },
      "source": [
        "import datetime"
      ],
      "execution_count": 10,
      "outputs": []
    },
    {
      "cell_type": "code",
      "metadata": {
        "id": "ObWdUa5w_gGd",
        "colab": {
          "base_uri": "https://localhost:8080/"
        },
        "outputId": "16820593-6b4b-424b-80a8-a4d79983697d"
      },
      "source": [
        "dir(datetime)"
      ],
      "execution_count": 11,
      "outputs": [
        {
          "output_type": "execute_result",
          "data": {
            "text/plain": [
              "['MAXYEAR',\n",
              " 'MINYEAR',\n",
              " '__builtins__',\n",
              " '__cached__',\n",
              " '__doc__',\n",
              " '__file__',\n",
              " '__loader__',\n",
              " '__name__',\n",
              " '__package__',\n",
              " '__spec__',\n",
              " 'date',\n",
              " 'datetime',\n",
              " 'datetime_CAPI',\n",
              " 'sys',\n",
              " 'time',\n",
              " 'timedelta',\n",
              " 'timezone',\n",
              " 'tzinfo']"
            ]
          },
          "metadata": {},
          "execution_count": 11
        }
      ]
    },
    {
      "cell_type": "code",
      "metadata": {
        "id": "xONOUbn0_pHp",
        "colab": {
          "base_uri": "https://localhost:8080/"
        },
        "outputId": "1a1d7c13-78cb-4e14-9992-04b4e8259b7b"
      },
      "source": [
        "datetime.date.today()"
      ],
      "execution_count": 12,
      "outputs": [
        {
          "output_type": "execute_result",
          "data": {
            "text/plain": [
              "datetime.date(2021, 12, 2)"
            ]
          },
          "metadata": {},
          "execution_count": 12
        }
      ]
    },
    {
      "cell_type": "code",
      "metadata": {
        "id": "tt0hGFwv_uUK",
        "colab": {
          "base_uri": "https://localhost:8080/"
        },
        "outputId": "72d5cda4-b2b1-4886-ab56-6cff1878656f"
      },
      "source": [
        "datetime.datetime.now() #fica 3 horas a mais da hora atual, pois mostra a hora do local dos servidores do Google"
      ],
      "execution_count": 14,
      "outputs": [
        {
          "output_type": "execute_result",
          "data": {
            "text/plain": [
              "datetime.datetime(2021, 12, 2, 17, 46, 43, 83789)"
            ]
          },
          "metadata": {},
          "execution_count": 14
        }
      ]
    },
    {
      "cell_type": "code",
      "metadata": {
        "id": "ur0nPWai_944"
      },
      "source": [
        "data = datetime.date(2020, 7, 10)"
      ],
      "execution_count": 16,
      "outputs": []
    },
    {
      "cell_type": "code",
      "metadata": {
        "id": "6SHOHygsADbR",
        "colab": {
          "base_uri": "https://localhost:8080/"
        },
        "outputId": "aad1ec99-c62e-4cdd-a979-c0fd412109a7"
      },
      "source": [
        "data"
      ],
      "execution_count": 17,
      "outputs": [
        {
          "output_type": "execute_result",
          "data": {
            "text/plain": [
              "datetime.date(2020, 7, 10)"
            ]
          },
          "metadata": {},
          "execution_count": 17
        }
      ]
    },
    {
      "cell_type": "code",
      "metadata": {
        "id": "m8JL6oiiAFUE",
        "colab": {
          "base_uri": "https://localhost:8080/"
        },
        "outputId": "110fd28c-48e8-483a-c3bd-05743bbfbcb1"
      },
      "source": [
        "data.day"
      ],
      "execution_count": 18,
      "outputs": [
        {
          "output_type": "execute_result",
          "data": {
            "text/plain": [
              "10"
            ]
          },
          "metadata": {},
          "execution_count": 18
        }
      ]
    },
    {
      "cell_type": "code",
      "metadata": {
        "id": "_46rIp3zAH9a",
        "colab": {
          "base_uri": "https://localhost:8080/"
        },
        "outputId": "fad6d597-67b5-4b18-f983-267ec51e7828"
      },
      "source": [
        "data.month"
      ],
      "execution_count": 19,
      "outputs": [
        {
          "output_type": "execute_result",
          "data": {
            "text/plain": [
              "7"
            ]
          },
          "metadata": {},
          "execution_count": 19
        }
      ]
    },
    {
      "cell_type": "code",
      "metadata": {
        "id": "nTb7KdSnAKMW",
        "colab": {
          "base_uri": "https://localhost:8080/"
        },
        "outputId": "810b595e-050c-4f4b-d30e-b71942bd6373"
      },
      "source": [
        "data.year"
      ],
      "execution_count": 20,
      "outputs": [
        {
          "output_type": "execute_result",
          "data": {
            "text/plain": [
              "2020"
            ]
          },
          "metadata": {},
          "execution_count": 20
        }
      ]
    },
    {
      "cell_type": "code",
      "metadata": {
        "id": "FFeRYgo7AME5"
      },
      "source": [
        "horario = datetime.datetime(2020, 7, 10, 7, 30, 0)"
      ],
      "execution_count": 21,
      "outputs": []
    },
    {
      "cell_type": "code",
      "metadata": {
        "id": "lKlm_pM3AUgQ",
        "colab": {
          "base_uri": "https://localhost:8080/"
        },
        "outputId": "020d5937-bc85-4e3f-8782-6b7834cd22bc"
      },
      "source": [
        "horario"
      ],
      "execution_count": 22,
      "outputs": [
        {
          "output_type": "execute_result",
          "data": {
            "text/plain": [
              "datetime.datetime(2020, 7, 10, 7, 30)"
            ]
          },
          "metadata": {},
          "execution_count": 22
        }
      ]
    },
    {
      "cell_type": "code",
      "metadata": {
        "id": "n3Ga37sLAW42",
        "colab": {
          "base_uri": "https://localhost:8080/"
        },
        "outputId": "8a9f6fbf-47fe-4e56-cd73-6b2c600526e4"
      },
      "source": [
        "horario.hour"
      ],
      "execution_count": 23,
      "outputs": [
        {
          "output_type": "execute_result",
          "data": {
            "text/plain": [
              "7"
            ]
          },
          "metadata": {},
          "execution_count": 23
        }
      ]
    },
    {
      "cell_type": "code",
      "metadata": {
        "id": "fkAscL4JAZwv",
        "colab": {
          "base_uri": "https://localhost:8080/"
        },
        "outputId": "13dcc6a7-e1d4-4f3b-8b28-93a373492249"
      },
      "source": [
        "horario.minute"
      ],
      "execution_count": 24,
      "outputs": [
        {
          "output_type": "execute_result",
          "data": {
            "text/plain": [
              "30"
            ]
          },
          "metadata": {},
          "execution_count": 24
        }
      ]
    },
    {
      "cell_type": "code",
      "metadata": {
        "id": "L17bP5fJAcLN",
        "colab": {
          "base_uri": "https://localhost:8080/"
        },
        "outputId": "a3e95481-a53f-4ece-f821-22a31181f75b"
      },
      "source": [
        "horario.second"
      ],
      "execution_count": 25,
      "outputs": [
        {
          "output_type": "execute_result",
          "data": {
            "text/plain": [
              "0"
            ]
          },
          "metadata": {},
          "execution_count": 25
        }
      ]
    },
    {
      "cell_type": "markdown",
      "metadata": {
        "id": "ggltYst89xbS"
      },
      "source": [
        "## Biblioteca random\n",
        "\n",
        "https://docs.python.org/3/library/random.html"
      ]
    },
    {
      "cell_type": "code",
      "metadata": {
        "id": "CVJYJFKSA80v"
      },
      "source": [
        "import random"
      ],
      "execution_count": 26,
      "outputs": []
    },
    {
      "cell_type": "code",
      "metadata": {
        "id": "pHCyuns9A_1L",
        "colab": {
          "base_uri": "https://localhost:8080/"
        },
        "outputId": "bc3fd0e8-fa03-4328-b555-99a36102fe40"
      },
      "source": [
        "random.random()"
      ],
      "execution_count": 28,
      "outputs": [
        {
          "output_type": "execute_result",
          "data": {
            "text/plain": [
              "0.07602878619008602"
            ]
          },
          "metadata": {},
          "execution_count": 28
        }
      ]
    },
    {
      "cell_type": "code",
      "metadata": {
        "id": "QP8UOZkSBIMM",
        "colab": {
          "base_uri": "https://localhost:8080/"
        },
        "outputId": "f592f2fe-63ab-415a-f313-1801ba4c0f84"
      },
      "source": [
        "random.randint(1,100)"
      ],
      "execution_count": 33,
      "outputs": [
        {
          "output_type": "execute_result",
          "data": {
            "text/plain": [
              "48"
            ]
          },
          "metadata": {},
          "execution_count": 33
        }
      ]
    },
    {
      "cell_type": "code",
      "metadata": {
        "id": "ANyO08vxBUOR",
        "colab": {
          "base_uri": "https://localhost:8080/"
        },
        "outputId": "4b24dcc0-3719-4612-a454-bf84b2eb84a8"
      },
      "source": [
        "random.randrange(0, 10, 2)"
      ],
      "execution_count": 44,
      "outputs": [
        {
          "output_type": "execute_result",
          "data": {
            "text/plain": [
              "4"
            ]
          },
          "metadata": {},
          "execution_count": 44
        }
      ]
    },
    {
      "cell_type": "code",
      "metadata": {
        "id": "z_lV_cmrBime",
        "colab": {
          "base_uri": "https://localhost:8080/"
        },
        "outputId": "ac31e4a4-0341-4217-f1a9-c8cb6b609904"
      },
      "source": [
        "random.randrange(0, 10, 3)"
      ],
      "execution_count": 45,
      "outputs": [
        {
          "output_type": "execute_result",
          "data": {
            "text/plain": [
              "6"
            ]
          },
          "metadata": {},
          "execution_count": 45
        }
      ]
    },
    {
      "cell_type": "code",
      "metadata": {
        "id": "5lJoox02BsI-",
        "colab": {
          "base_uri": "https://localhost:8080/"
        },
        "outputId": "fea591ba-cc02-4e3f-ba24-c40de7d3612a"
      },
      "source": [
        "x = ['K', 'd', 13, '34-j', 'x']\n",
        "x"
      ],
      "execution_count": 46,
      "outputs": [
        {
          "output_type": "execute_result",
          "data": {
            "text/plain": [
              "['K', 'd', 13, '34-j', 'x']"
            ]
          },
          "metadata": {},
          "execution_count": 46
        }
      ]
    },
    {
      "cell_type": "code",
      "metadata": {
        "id": "69AXcQ4XB1x9",
        "colab": {
          "base_uri": "https://localhost:8080/",
          "height": 36
        },
        "outputId": "ad86a606-c39f-4027-8bb2-3049a139e82b"
      },
      "source": [
        "random.choice(x)"
      ],
      "execution_count": 48,
      "outputs": [
        {
          "output_type": "execute_result",
          "data": {
            "application/vnd.google.colaboratory.intrinsic+json": {
              "type": "string"
            },
            "text/plain": [
              "'x'"
            ]
          },
          "metadata": {},
          "execution_count": 48
        }
      ]
    },
    {
      "cell_type": "markdown",
      "metadata": {
        "id": "mdD3O8Kc-Tkq"
      },
      "source": [
        "## Biblioteca time\n",
        "\n",
        "https://docs.python.org/3/library/time.html"
      ]
    },
    {
      "cell_type": "code",
      "metadata": {
        "id": "LPQ-b41pCBm_"
      },
      "source": [
        "import time as tm"
      ],
      "execution_count": 49,
      "outputs": []
    },
    {
      "cell_type": "code",
      "metadata": {
        "id": "8lUWM3b2CIEW",
        "colab": {
          "base_uri": "https://localhost:8080/"
        },
        "outputId": "61cb7d30-89d3-4f97-b6a0-6770dcca8b32"
      },
      "source": [
        "tm.time()"
      ],
      "execution_count": 51,
      "outputs": [
        {
          "output_type": "execute_result",
          "data": {
            "text/plain": [
              "1638467614.8637676"
            ]
          },
          "metadata": {},
          "execution_count": 51
        }
      ]
    },
    {
      "cell_type": "code",
      "metadata": {
        "id": "gJRtYvDdCP7H"
      },
      "source": [
        "antes = tm.time()\n",
        "lista = []\n",
        "for i in range(0,10000):\n",
        "  lista.append(i)\n",
        "depois = tm.time()"
      ],
      "execution_count": 52,
      "outputs": []
    },
    {
      "cell_type": "code",
      "metadata": {
        "id": "Dx1j-BEcChm3",
        "colab": {
          "base_uri": "https://localhost:8080/"
        },
        "outputId": "4b55755e-24de-40a7-cf89-b5ced6c06b8c"
      },
      "source": [
        "intervalo = depois - antes\n",
        "print(f'Tempo: {intervalo} segundos')"
      ],
      "execution_count": 53,
      "outputs": [
        {
          "output_type": "stream",
          "name": "stdout",
          "text": [
            "Tempo: 0.0016627311706542969 segundos\n"
          ]
        }
      ]
    },
    {
      "cell_type": "code",
      "metadata": {
        "id": "1i2UXiRxCv4f",
        "colab": {
          "base_uri": "https://localhost:8080/"
        },
        "outputId": "8d4bddb4-505d-4382-b178-08cbaee176df"
      },
      "source": [
        "print('Finalizando...')\n",
        "tm.sleep(2)\n",
        "print('...')\n",
        "tm.sleep(2)\n",
        "print('Até a próxima')"
      ],
      "execution_count": 55,
      "outputs": [
        {
          "output_type": "stream",
          "name": "stdout",
          "text": [
            "Finalizando...\n",
            "...\n",
            "Até a próxima\n"
          ]
        }
      ]
    }
  ]
}