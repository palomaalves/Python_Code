{
  "nbformat": 4,
  "nbformat_minor": 0,
  "metadata": {
    "colab": {
      "name": "Módulos personalizados.ipynb",
      "provenance": [],
      "collapsed_sections": [],
      "include_colab_link": true
    },
    "kernelspec": {
      "name": "python3",
      "display_name": "Python 3"
    }
  },
  "cells": [
    {
      "cell_type": "markdown",
      "metadata": {
        "id": "view-in-github",
        "colab_type": "text"
      },
      "source": [
        "<a href=\"https://colab.research.google.com/github/palomaalves/Python_Code/blob/main/M%C3%B3dulos_personalizados.ipynb\" target=\"_parent\"><img src=\"https://colab.research.google.com/assets/colab-badge.svg\" alt=\"Open In Colab\"/></a>"
      ]
    },
    {
      "cell_type": "markdown",
      "metadata": {
        "id": "SWL14HWv5QIB"
      },
      "source": [
        "# Módulos personalizados"
      ]
    },
    {
      "cell_type": "code",
      "metadata": {
        "id": "JHIvjhE8FGfe"
      },
      "source": [
        "import utilitarios as ut"
      ],
      "execution_count": 1,
      "outputs": []
    },
    {
      "cell_type": "code",
      "metadata": {
        "id": "gJafHjJnFPj9",
        "colab": {
          "base_uri": "https://localhost:8080/"
        },
        "outputId": "190a26af-d142-403a-dde2-331a9a34bce9"
      },
      "source": [
        "ut.soma(1, 2, 3)"
      ],
      "execution_count": 2,
      "outputs": [
        {
          "output_type": "execute_result",
          "data": {
            "text/plain": [
              "6"
            ]
          },
          "metadata": {},
          "execution_count": 2
        }
      ]
    },
    {
      "cell_type": "code",
      "metadata": {
        "id": "diGfxcKBFUim",
        "colab": {
          "base_uri": "https://localhost:8080/"
        },
        "outputId": "db0b9291-2552-4292-c5dd-58f3978a4c51"
      },
      "source": [
        "ut.mult(3, 2, 2)"
      ],
      "execution_count": 3,
      "outputs": [
        {
          "output_type": "execute_result",
          "data": {
            "text/plain": [
              "12"
            ]
          },
          "metadata": {},
          "execution_count": 3
        }
      ]
    },
    {
      "cell_type": "code",
      "metadata": {
        "id": "DV4UzPRQFYlM",
        "colab": {
          "base_uri": "https://localhost:8080/"
        },
        "outputId": "d51f4ba5-d02b-4f6e-b49f-a41d2f8375b0"
      },
      "source": [
        "ut.isPalindromo('abc')"
      ],
      "execution_count": 4,
      "outputs": [
        {
          "output_type": "execute_result",
          "data": {
            "text/plain": [
              "False"
            ]
          },
          "metadata": {},
          "execution_count": 4
        }
      ]
    },
    {
      "cell_type": "code",
      "metadata": {
        "id": "UIU7SljeFcax",
        "colab": {
          "base_uri": "https://localhost:8080/"
        },
        "outputId": "de6bfb59-5fdb-4f3e-8415-57c9ca93144b"
      },
      "source": [
        "ut.isPalindromo('abccba')"
      ],
      "execution_count": 5,
      "outputs": [
        {
          "output_type": "execute_result",
          "data": {
            "text/plain": [
              "True"
            ]
          },
          "metadata": {},
          "execution_count": 5
        }
      ]
    },
    {
      "cell_type": "code",
      "metadata": {
        "id": "PF6_f3ctFltr"
      },
      "source": [
        "t = 'abccba'"
      ],
      "execution_count": 6,
      "outputs": []
    },
    {
      "cell_type": "code",
      "metadata": {
        "id": "GvgulgBGFkVf",
        "colab": {
          "base_uri": "https://localhost:8080/",
          "height": 36
        },
        "outputId": "be88dd2f-cc10-4c9e-b97c-2b38b4a8f07a"
      },
      "source": [
        "t[::-1]"
      ],
      "execution_count": 7,
      "outputs": [
        {
          "output_type": "execute_result",
          "data": {
            "application/vnd.google.colaboratory.intrinsic+json": {
              "type": "string"
            },
            "text/plain": [
              "'abccba'"
            ]
          },
          "metadata": {},
          "execution_count": 7
        }
      ]
    },
    {
      "cell_type": "code",
      "metadata": {
        "id": "AzXe3Y9QFyLt",
        "colab": {
          "base_uri": "https://localhost:8080/",
          "height": 36
        },
        "outputId": "ad0c1e56-bfcc-45e8-f3f5-b2250aa502c5"
      },
      "source": [
        "t1 = 'abc'\n",
        "t1[::-1]"
      ],
      "execution_count": 8,
      "outputs": [
        {
          "output_type": "execute_result",
          "data": {
            "application/vnd.google.colaboratory.intrinsic+json": {
              "type": "string"
            },
            "text/plain": [
              "'cba'"
            ]
          },
          "metadata": {},
          "execution_count": 8
        }
      ]
    },
    {
      "cell_type": "code",
      "metadata": {
        "id": "EruV4d8gGBMZ",
        "colab": {
          "base_uri": "https://localhost:8080/"
        },
        "outputId": "4d4b46e0-07cf-4424-ff71-4c84d8e704ea"
      },
      "source": [
        "ut.divisao(10,2)"
      ],
      "execution_count": 9,
      "outputs": [
        {
          "output_type": "execute_result",
          "data": {
            "text/plain": [
              "5.0"
            ]
          },
          "metadata": {},
          "execution_count": 9
        }
      ]
    }
  ]
}