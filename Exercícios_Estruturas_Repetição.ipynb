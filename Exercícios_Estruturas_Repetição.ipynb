{
  "nbformat": 4,
  "nbformat_minor": 0,
  "metadata": {
    "colab": {
      "name": "Exercícios Estruturas Repetição.ipynb",
      "provenance": [],
      "collapsed_sections": [],
      "include_colab_link": true
    },
    "kernelspec": {
      "name": "python3",
      "display_name": "Python 3"
    }
  },
  "cells": [
    {
      "cell_type": "markdown",
      "metadata": {
        "id": "view-in-github",
        "colab_type": "text"
      },
      "source": [
        "<a href=\"https://colab.research.google.com/github/palomaalves/Python_Code/blob/main/Exerc%C3%ADcios_Estruturas_Repeti%C3%A7%C3%A3o.ipynb\" target=\"_parent\"><img src=\"https://colab.research.google.com/assets/colab-badge.svg\" alt=\"Open In Colab\"/></a>"
      ]
    },
    {
      "cell_type": "markdown",
      "metadata": {
        "id": "c9BudZ2gNE2n"
      },
      "source": [
        "# Exercício 1\n",
        "\n",
        "Ler 5 notas e informar a média\n"
      ]
    },
    {
      "cell_type": "markdown",
      "metadata": {
        "id": "RFJ-2UWJSviN"
      },
      "source": [
        "## For"
      ]
    },
    {
      "cell_type": "code",
      "metadata": {
        "id": "SVlPSs0oS1XU"
      },
      "source": [
        "nota = media = soma = 0"
      ],
      "execution_count": 1,
      "outputs": []
    },
    {
      "cell_type": "code",
      "metadata": {
        "id": "H77cGoceod5M",
        "colab": {
          "base_uri": "https://localhost:8080/"
        },
        "outputId": "079b9bad-18d1-409d-c5d3-d46794380635"
      },
      "source": [
        "print(nota, media, soma)"
      ],
      "execution_count": 2,
      "outputs": [
        {
          "output_type": "stream",
          "name": "stdout",
          "text": [
            "0 0 0\n"
          ]
        }
      ]
    },
    {
      "cell_type": "code",
      "metadata": {
        "id": "y69_FUgZTFAa",
        "colab": {
          "base_uri": "https://localhost:8080/"
        },
        "outputId": "ab67cc98-a554-4014-bf0a-565015a1f0f5"
      },
      "source": [
        "for _ in range(1, 6):\n",
        "  nota = float(input('Digite a nota '))\n",
        "  soma += nota"
      ],
      "execution_count": 3,
      "outputs": [
        {
          "name": "stdout",
          "output_type": "stream",
          "text": [
            "Digite a nota 2\n",
            "Digite a nota 5\n",
            "Digite a nota 4\n",
            "Digite a nota 7\n",
            "Digite a nota 10\n"
          ]
        }
      ]
    },
    {
      "cell_type": "code",
      "metadata": {
        "id": "PcZJcwYxbUmG",
        "colab": {
          "base_uri": "https://localhost:8080/"
        },
        "outputId": "4631db00-6149-4faa-cff5-a24b66554552"
      },
      "source": [
        "print(soma)"
      ],
      "execution_count": 4,
      "outputs": [
        {
          "output_type": "stream",
          "name": "stdout",
          "text": [
            "28.0\n"
          ]
        }
      ]
    },
    {
      "cell_type": "code",
      "metadata": {
        "id": "EfSe5EF6bYCA",
        "colab": {
          "base_uri": "https://localhost:8080/"
        },
        "outputId": "4fae2d9b-7250-4288-b216-07a12e8a0e5a"
      },
      "source": [
        "media = soma / 5\n",
        "print('A média é ', media)"
      ],
      "execution_count": 5,
      "outputs": [
        {
          "output_type": "stream",
          "name": "stdout",
          "text": [
            "A média é  5.6\n"
          ]
        }
      ]
    },
    {
      "cell_type": "markdown",
      "metadata": {
        "id": "-44bufKRbeBf"
      },
      "source": [
        "## While"
      ]
    },
    {
      "cell_type": "code",
      "metadata": {
        "id": "5O23ONtfbf9w",
        "colab": {
          "base_uri": "https://localhost:8080/"
        },
        "outputId": "dbc35bde-0443-470b-8541-b690ce599e7a"
      },
      "source": [
        "nota = soma = 0\n",
        "numero = 1\n",
        "while numero <= 5:\n",
        "  nota = float(input('Digite a nota:'))\n",
        "  soma += nota\n",
        "  numero += 1\n",
        "print('A média é ', soma / 5)"
      ],
      "execution_count": 6,
      "outputs": [
        {
          "output_type": "stream",
          "name": "stdout",
          "text": [
            "Digite a nota:2\n",
            "Digite a nota:5\n",
            "Digite a nota:4\n",
            "Digite a nota:7\n",
            "Digite a nota:10\n",
            "A média é  5.6\n"
          ]
        }
      ]
    },
    {
      "cell_type": "markdown",
      "metadata": {
        "id": "QK3YAlgdN0t3"
      },
      "source": [
        "# Exercício 2\n",
        "\n",
        "Imprimir a tabuada do número 3 (3 x 1 = 1 - 3 x 10 = 30)\n"
      ]
    },
    {
      "cell_type": "markdown",
      "metadata": {
        "id": "DgR_HhoqcKlH"
      },
      "source": [
        "## For"
      ]
    },
    {
      "cell_type": "code",
      "metadata": {
        "id": "17IiwQLVcKM1",
        "colab": {
          "base_uri": "https://localhost:8080/"
        },
        "outputId": "d18e8b99-794e-46be-aab5-934a59167141"
      },
      "source": [
        "for i in range(1, 11):\n",
        "  print('3 x {} = {}'.format(i, 3 * i))"
      ],
      "execution_count": 7,
      "outputs": [
        {
          "output_type": "stream",
          "name": "stdout",
          "text": [
            "3 x 1 = 3\n",
            "3 x 2 = 6\n",
            "3 x 3 = 9\n",
            "3 x 4 = 12\n",
            "3 x 5 = 15\n",
            "3 x 6 = 18\n",
            "3 x 7 = 21\n",
            "3 x 8 = 24\n",
            "3 x 9 = 27\n",
            "3 x 10 = 30\n"
          ]
        }
      ]
    },
    {
      "cell_type": "markdown",
      "metadata": {
        "id": "7HRSb00ycuip"
      },
      "source": [
        "## While"
      ]
    },
    {
      "cell_type": "code",
      "metadata": {
        "id": "rR51zPtEcuKg",
        "colab": {
          "base_uri": "https://localhost:8080/"
        },
        "outputId": "29caa668-f683-46d3-d178-f3df3309d6f1"
      },
      "source": [
        "numero = 1\n",
        "while numero <= 10:\n",
        "  print('3 x {} = {}'.format(numero, 3 * numero))\n",
        "  numero += 1"
      ],
      "execution_count": 8,
      "outputs": [
        {
          "output_type": "stream",
          "name": "stdout",
          "text": [
            "3 x 1 = 3\n",
            "3 x 2 = 6\n",
            "3 x 3 = 9\n",
            "3 x 4 = 12\n",
            "3 x 5 = 15\n",
            "3 x 6 = 18\n",
            "3 x 7 = 21\n",
            "3 x 8 = 24\n",
            "3 x 9 = 27\n",
            "3 x 10 = 30\n"
          ]
        }
      ]
    }
  ]
}