{
  "nbformat": 4,
  "nbformat_minor": 0,
  "metadata": {
    "colab": {
      "name": "Expressões Regulares.ipynb",
      "provenance": [],
      "collapsed_sections": [],
      "include_colab_link": true
    },
    "kernelspec": {
      "name": "python3",
      "display_name": "Python 3"
    }
  },
  "cells": [
    {
      "cell_type": "markdown",
      "metadata": {
        "id": "view-in-github",
        "colab_type": "text"
      },
      "source": [
        "<a href=\"https://colab.research.google.com/github/palomaalves/Python_Code/blob/main/Express%C3%B5es_Regulares.ipynb\" target=\"_parent\"><img src=\"https://colab.research.google.com/assets/colab-badge.svg\" alt=\"Open In Colab\"/></a>"
      ]
    },
    {
      "cell_type": "markdown",
      "metadata": {
        "id": "WvOV4VN9sHvj"
      },
      "source": [
        "# Expressões regulares"
      ]
    },
    {
      "cell_type": "markdown",
      "metadata": {
        "id": "Nk_w40LW0itn"
      },
      "source": [
        "## Função search"
      ]
    },
    {
      "cell_type": "code",
      "metadata": {
        "id": "Aj1dc_c2uZDl"
      },
      "source": [
        "import re"
      ],
      "execution_count": 1,
      "outputs": []
    },
    {
      "cell_type": "code",
      "metadata": {
        "id": "hFhDZWgGsKQO"
      },
      "source": [
        "frase = 'Olá, meu número de telefone é (81)99910-0000'"
      ],
      "execution_count": 2,
      "outputs": []
    },
    {
      "cell_type": "code",
      "metadata": {
        "id": "qPnO9HmAReeL",
        "colab": {
          "base_uri": "https://localhost:8080/"
        },
        "outputId": "daab43e2-1bd1-408a-e43a-513d737ab464"
      },
      "source": [
        "re.search('\\(\\d{2}\\)\\d{4,5}-\\d{4}', frase)"
      ],
      "execution_count": 4,
      "outputs": [
        {
          "output_type": "execute_result",
          "data": {
            "text/plain": [
              "<re.Match object; span=(30, 44), match='(81)99910-0000'>"
            ]
          },
          "metadata": {},
          "execution_count": 4
        }
      ]
    },
    {
      "cell_type": "code",
      "metadata": {
        "id": "LitwIAjDwRXM"
      },
      "source": [
        "frase2 = 'A placa de carro que eu anotei durante o acidente foi FrT-1998'"
      ],
      "execution_count": 7,
      "outputs": []
    },
    {
      "cell_type": "code",
      "metadata": {
        "id": "Yy50jNO9SYU6",
        "colab": {
          "base_uri": "https://localhost:8080/"
        },
        "outputId": "b2545200-d1cd-4dee-d26f-19f72b782674"
      },
      "source": [
        "re.search('[A-Za-z]{3}-\\d{4}', frase2)"
      ],
      "execution_count": 8,
      "outputs": [
        {
          "output_type": "execute_result",
          "data": {
            "text/plain": [
              "<re.Match object; span=(54, 62), match='FrT-1998'>"
            ]
          },
          "metadata": {},
          "execution_count": 8
        }
      ]
    },
    {
      "cell_type": "code",
      "metadata": {
        "id": "JZ9iXCw4w4o7"
      },
      "source": [
        "email = 'Entre em contato, meu email é teste@teste.com'"
      ],
      "execution_count": 9,
      "outputs": []
    },
    {
      "cell_type": "code",
      "metadata": {
        "id": "Jf9J4PZYSv3_",
        "colab": {
          "base_uri": "https://localhost:8080/"
        },
        "outputId": "117ad869-e33c-46bb-d015-1504d987e15e"
      },
      "source": [
        "re.search('\\w+@\\w+\\.com', email)"
      ],
      "execution_count": 10,
      "outputs": [
        {
          "output_type": "execute_result",
          "data": {
            "text/plain": [
              "<re.Match object; span=(30, 45), match='teste@teste.com'>"
            ]
          },
          "metadata": {},
          "execution_count": 10
        }
      ]
    },
    {
      "cell_type": "markdown",
      "metadata": {
        "id": "wZziwezSxZNR"
      },
      "source": [
        "## Função match"
      ]
    },
    {
      "cell_type": "code",
      "metadata": {
        "id": "q2MZ-5urxep0"
      },
      "source": [
        "frase3 = 'A placa de carro que eu anotei durante a batida foi FRT-1998'"
      ],
      "execution_count": 12,
      "outputs": []
    },
    {
      "cell_type": "code",
      "metadata": {
        "id": "esPXSYM6TMIt",
        "colab": {
          "base_uri": "https://localhost:8080/"
        },
        "outputId": "1989b740-c63c-4217-a3ef-830681d83302"
      },
      "source": [
        "print(re.match('[A-Za-z]{3}-\\d{4}', frase3))"
      ],
      "execution_count": 14,
      "outputs": [
        {
          "output_type": "stream",
          "name": "stdout",
          "text": [
            "None\n"
          ]
        }
      ]
    },
    {
      "cell_type": "code",
      "metadata": {
        "id": "ahPvZA8Ax5E8"
      },
      "source": [
        "frase2 = 'FRT-1998 é a placa do carro'"
      ],
      "execution_count": 15,
      "outputs": []
    },
    {
      "cell_type": "code",
      "metadata": {
        "id": "GgVEH8sjTVqh",
        "colab": {
          "base_uri": "https://localhost:8080/"
        },
        "outputId": "04372126-4a66-4cd1-ff61-e18b708d73ec"
      },
      "source": [
        "print(re.match('[A-Za-z]{3}-\\d{4}', frase2))"
      ],
      "execution_count": 16,
      "outputs": [
        {
          "output_type": "stream",
          "name": "stdout",
          "text": [
            "<re.Match object; span=(0, 8), match='FRT-1998'>\n"
          ]
        }
      ]
    },
    {
      "cell_type": "markdown",
      "metadata": {
        "id": "7OJHsCbkyzV6"
      },
      "source": [
        "## Função findall"
      ]
    },
    {
      "cell_type": "code",
      "metadata": {
        "id": "nAiqJkNJy-gs"
      },
      "source": [
        "frase3 = 'Meu número de telefone atual é (42)0000-0000. O número (56)1111-1111 é o antigo'"
      ],
      "execution_count": 17,
      "outputs": []
    },
    {
      "cell_type": "code",
      "metadata": {
        "id": "7wUHKwFuTj9P",
        "colab": {
          "base_uri": "https://localhost:8080/"
        },
        "outputId": "5ac34075-af0a-4661-c7c2-dc59e72d9b74"
      },
      "source": [
        "re.findall('\\(\\d{2}\\)\\d{4,5}-\\d{4}', frase3)"
      ],
      "execution_count": 18,
      "outputs": [
        {
          "output_type": "execute_result",
          "data": {
            "text/plain": [
              "['(42)0000-0000', '(56)1111-1111']"
            ]
          },
          "metadata": {},
          "execution_count": 18
        }
      ]
    },
    {
      "cell_type": "code",
      "metadata": {
        "id": "UwyR0ezBzkqj"
      },
      "source": [
        "emails = '''Nome: Teste 1\n",
        "email: teste1@teste.com\n",
        "Nome: Teste 2\n",
        "email: teste2@teste.com\n",
        "Nome: Teste 3\n",
        "email: teste3@teste.com.br\n",
        "'''"
      ],
      "execution_count": 19,
      "outputs": []
    },
    {
      "cell_type": "code",
      "metadata": {
        "id": "-nGbc57NTvaT",
        "colab": {
          "base_uri": "https://localhost:8080/"
        },
        "outputId": "16e607c5-2a8a-483b-be59-33c768449661"
      },
      "source": [
        "re.findall('\\w+@\\w+\\.\\w*', emails)"
      ],
      "execution_count": 21,
      "outputs": [
        {
          "output_type": "execute_result",
          "data": {
            "text/plain": [
              "['teste1@teste.com', 'teste2@teste.com', 'teste3@teste.com']"
            ]
          },
          "metadata": {},
          "execution_count": 21
        }
      ]
    }
  ]
}