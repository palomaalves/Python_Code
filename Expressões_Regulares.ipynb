{
  "nbformat": 4,
  "nbformat_minor": 0,
  "metadata": {
    "colab": {
      "name": "Expressões Regulares.ipynb",
      "provenance": [],
      "collapsed_sections": [],
      "include_colab_link": true
    },
    "kernelspec": {
      "name": "python3",
      "display_name": "Python 3"
    }
  },
  "cells": [
    {
      "cell_type": "markdown",
      "metadata": {
        "id": "view-in-github",
        "colab_type": "text"
      },
      "source": [
        "<a href=\"https://colab.research.google.com/github/palomaalves/Python_Code/blob/main/Express%C3%B5es_Regulares.ipynb\" target=\"_parent\"><img src=\"https://colab.research.google.com/assets/colab-badge.svg\" alt=\"Open In Colab\"/></a>"
      ]
    },
    {
      "cell_type": "markdown",
      "metadata": {
        "id": "WvOV4VN9sHvj"
      },
      "source": [
        "# Expressões regulares"
      ]
    },
    {
      "cell_type": "markdown",
      "metadata": {
        "id": "Nk_w40LW0itn"
      },
      "source": [
        "## Função search"
      ]
    },
    {
      "cell_type": "code",
      "metadata": {
        "id": "Aj1dc_c2uZDl"
      },
      "source": [
        "import re"
      ],
      "execution_count": null,
      "outputs": []
    },
    {
      "cell_type": "code",
      "metadata": {
        "id": "hFhDZWgGsKQO"
      },
      "source": [
        "frase = 'Olá, meu número de telefone é (81)99910-0000'"
      ],
      "execution_count": null,
      "outputs": []
    },
    {
      "cell_type": "code",
      "metadata": {
        "id": "qPnO9HmAReeL",
        "colab": {
          "base_uri": "https://localhost:8080/"
        },
        "outputId": "daab43e2-1bd1-408a-e43a-513d737ab464"
      },
      "source": [
        "re.search('\\(\\d{2}\\)\\d{4,5}-\\d{4}', frase)"
      ],
      "execution_count": null,
      "outputs": [
        {
          "output_type": "execute_result",
          "data": {
            "text/plain": [
              "<re.Match object; span=(30, 44), match='(81)99910-0000'>"
            ]
          },
          "metadata": {},
          "execution_count": 4
        }
      ]
    },
    {
      "cell_type": "code",
      "metadata": {
        "id": "LitwIAjDwRXM"
      },
      "source": [
        "frase2 = 'A placa de carro que eu anotei durante o acidente foi FrT-1998'"
      ],
      "execution_count": null,
      "outputs": []
    },
    {
      "cell_type": "code",
      "metadata": {
        "id": "Yy50jNO9SYU6",
        "colab": {
          "base_uri": "https://localhost:8080/"
        },
        "outputId": "b2545200-d1cd-4dee-d26f-19f72b782674"
      },
      "source": [
        "re.search('[A-Za-z]{3}-\\d{4}', frase2)"
      ],
      "execution_count": null,
      "outputs": [
        {
          "output_type": "execute_result",
          "data": {
            "text/plain": [
              "<re.Match object; span=(54, 62), match='FrT-1998'>"
            ]
          },
          "metadata": {},
          "execution_count": 8
        }
      ]
    },
    {
      "cell_type": "code",
      "metadata": {
        "id": "JZ9iXCw4w4o7"
      },
      "source": [
        "email = 'Entre em contato, meu email é teste@teste.com'"
      ],
      "execution_count": null,
      "outputs": []
    },
    {
      "cell_type": "code",
      "metadata": {
        "id": "Jf9J4PZYSv3_",
        "colab": {
          "base_uri": "https://localhost:8080/"
        },
        "outputId": "117ad869-e33c-46bb-d015-1504d987e15e"
      },
      "source": [
        "re.search('\\w+@\\w+\\.com', email)"
      ],
      "execution_count": null,
      "outputs": [
        {
          "output_type": "execute_result",
          "data": {
            "text/plain": [
              "<re.Match object; span=(30, 45), match='teste@teste.com'>"
            ]
          },
          "metadata": {},
          "execution_count": 10
        }
      ]
    },
    {
      "cell_type": "markdown",
      "metadata": {
        "id": "wZziwezSxZNR"
      },
      "source": [
        "## Função match"
      ]
    },
    {
      "cell_type": "code",
      "metadata": {
        "id": "q2MZ-5urxep0"
      },
      "source": [
        "frase3 = 'A placa de carro que eu anotei durante a batida foi FRT-1998'"
      ],
      "execution_count": null,
      "outputs": []
    },
    {
      "cell_type": "code",
      "metadata": {
        "id": "esPXSYM6TMIt",
        "colab": {
          "base_uri": "https://localhost:8080/"
        },
        "outputId": "1989b740-c63c-4217-a3ef-830681d83302"
      },
      "source": [
        "print(re.match('[A-Za-z]{3}-\\d{4}', frase3))"
      ],
      "execution_count": null,
      "outputs": [
        {
          "output_type": "stream",
          "name": "stdout",
          "text": [
            "None\n"
          ]
        }
      ]
    },
    {
      "cell_type": "code",
      "metadata": {
        "id": "ahPvZA8Ax5E8"
      },
      "source": [
        "frase2 = 'FRT-1998 é a placa do carro'"
      ],
      "execution_count": null,
      "outputs": []
    },
    {
      "cell_type": "code",
      "metadata": {
        "id": "GgVEH8sjTVqh",
        "colab": {
          "base_uri": "https://localhost:8080/"
        },
        "outputId": "04372126-4a66-4cd1-ff61-e18b708d73ec"
      },
      "source": [
        "print(re.match('[A-Za-z]{3}-\\d{4}', frase2))"
      ],
      "execution_count": null,
      "outputs": [
        {
          "output_type": "stream",
          "name": "stdout",
          "text": [
            "<re.Match object; span=(0, 8), match='FRT-1998'>\n"
          ]
        }
      ]
    },
    {
      "cell_type": "markdown",
      "metadata": {
        "id": "7OJHsCbkyzV6"
      },
      "source": [
        "## Função findall"
      ]
    },
    {
      "cell_type": "code",
      "metadata": {
        "id": "nAiqJkNJy-gs"
      },
      "source": [
        "frase3 = 'Meu número de telefone atual é (42)0000-0000. O número (56)1111-1111 é o antigo'"
      ],
      "execution_count": null,
      "outputs": []
    },
    {
      "cell_type": "code",
      "metadata": {
        "id": "7wUHKwFuTj9P",
        "colab": {
          "base_uri": "https://localhost:8080/"
        },
        "outputId": "5ac34075-af0a-4661-c7c2-dc59e72d9b74"
      },
      "source": [
        "re.findall('\\(\\d{2}\\)\\d{4,5}-\\d{4}', frase3)"
      ],
      "execution_count": null,
      "outputs": [
        {
          "output_type": "execute_result",
          "data": {
            "text/plain": [
              "['(42)0000-0000', '(56)1111-1111']"
            ]
          },
          "metadata": {},
          "execution_count": 18
        }
      ]
    },
    {
      "cell_type": "code",
      "metadata": {
        "id": "UwyR0ezBzkqj"
      },
      "source": [
        "emails = '''Nome: Teste 1\n",
        "email: teste1@teste.com\n",
        "Nome: Teste 2\n",
        "email: teste2@teste.com\n",
        "Nome: Teste 3\n",
        "email: teste3@teste.com.br\n",
        "'''"
      ],
      "execution_count": null,
      "outputs": []
    },
    {
      "cell_type": "code",
      "metadata": {
        "id": "-nGbc57NTvaT",
        "colab": {
          "base_uri": "https://localhost:8080/"
        },
        "outputId": "16e607c5-2a8a-483b-be59-33c768449661"
      },
      "source": [
        "re.findall('\\w+@\\w+\\.\\w*', emails)"
      ],
      "execution_count": null,
      "outputs": [
        {
          "output_type": "execute_result",
          "data": {
            "text/plain": [
              "['teste1@teste.com', 'teste2@teste.com', 'teste3@teste.com']"
            ]
          },
          "metadata": {},
          "execution_count": 21
        }
      ]
    },
    {
      "cell_type": "markdown",
      "metadata": {
        "id": "u6kt7XAq08xJ"
      },
      "source": [
        "# Exercícios\n",
        "\n",
        "Crie expressões regulares para extrair as seguintes informações do texto abaixo (use a função findall):\n",
        "- Números\n",
        "- CEPs\n",
        "- URLs\n"
      ]
    },
    {
      "cell_type": "code",
      "metadata": {
        "id": "LRbWdeO508xQ"
      },
      "source": [
        "texto = \"Minha casa fica na rua Carneiro, 78. O CEP é 88388-000 e 11111-111 meu site é https://www.iaexpert.academy http://iaexpert.com.br\""
      ],
      "execution_count": null,
      "outputs": []
    },
    {
      "cell_type": "code",
      "metadata": {
        "colab": {
          "base_uri": "https://localhost:8080/"
        },
        "id": "7Z-tFFbc08xS",
        "outputId": "e65e9801-6cf1-4f3b-e8f4-d3dbc40a8e55"
      },
      "source": [
        "re.findall('\\d', texto)"
      ],
      "execution_count": null,
      "outputs": [
        {
          "output_type": "execute_result",
          "data": {
            "text/plain": [
              "['7',\n",
              " '8',\n",
              " '8',\n",
              " '8',\n",
              " '3',\n",
              " '8',\n",
              " '8',\n",
              " '0',\n",
              " '0',\n",
              " '0',\n",
              " '1',\n",
              " '1',\n",
              " '1',\n",
              " '1',\n",
              " '1',\n",
              " '1',\n",
              " '1',\n",
              " '1']"
            ]
          },
          "metadata": {},
          "execution_count": 24
        }
      ]
    },
    {
      "cell_type": "code",
      "metadata": {
        "id": "xqiOpiYSB90B",
        "colab": {
          "base_uri": "https://localhost:8080/"
        },
        "outputId": "650332ef-37a6-4599-d53e-f60ca18fb4dd"
      },
      "source": [
        "re.findall('\\d{5}-\\d{3}', texto)"
      ],
      "execution_count": null,
      "outputs": [
        {
          "output_type": "execute_result",
          "data": {
            "text/plain": [
              "['88388-000', '11111-111']"
            ]
          },
          "metadata": {},
          "execution_count": 31
        }
      ]
    },
    {
      "cell_type": "code",
      "metadata": {
        "colab": {
          "base_uri": "https://localhost:8080/"
        },
        "id": "MqvSdkQK1w25",
        "outputId": "45f43de4-e8f7-41f5-ee3a-ed18227e6604"
      },
      "source": [
        "re.findall('https?://[A-Za-z0-9./]+', texto)"
      ],
      "execution_count": null,
      "outputs": [
        {
          "output_type": "execute_result",
          "data": {
            "text/plain": [
              "['https://www.iaexpert.academy', 'http://iaexpert.com.br']"
            ]
          },
          "metadata": {},
          "execution_count": 32
        }
      ]
    },
    {
      "cell_type": "markdown",
      "metadata": {
        "id": "E-f4rsjM2_sV"
      },
      "source": [
        "Dicas:\n"
      ]
    },
    {
      "cell_type": "code",
      "metadata": {
        "colab": {
          "base_uri": "https://localhost:8080/"
        },
        "id": "QrIvIo7Q2_P-",
        "outputId": "40104d23-96b3-4fd6-a3f0-1329d10c3c94"
      },
      "source": [
        "s = \"Now I know my ABC\"\n",
        "'ABC' in s"
      ],
      "execution_count": 33,
      "outputs": [
        {
          "output_type": "execute_result",
          "data": {
            "text/plain": [
              "True"
            ]
          },
          "metadata": {},
          "execution_count": 33
        }
      ]
    },
    {
      "cell_type": "code",
      "metadata": {
        "colab": {
          "base_uri": "https://localhost:8080/"
        },
        "id": "0_OMJJLK3oq-",
        "outputId": "5cf16129-ef24-45ac-d3ff-3c1818b6a7f6"
      },
      "source": [
        "s.find('ABC')"
      ],
      "execution_count": 34,
      "outputs": [
        {
          "output_type": "execute_result",
          "data": {
            "text/plain": [
              "14"
            ]
          },
          "metadata": {},
          "execution_count": 34
        }
      ]
    },
    {
      "cell_type": "code",
      "metadata": {
        "colab": {
          "base_uri": "https://localhost:8080/"
        },
        "id": "1ukXtbBH3tBl",
        "outputId": "e017f85b-4e60-4c93-a2a5-901b73600d05"
      },
      "source": [
        "re.search('I',s)"
      ],
      "execution_count": 35,
      "outputs": [
        {
          "output_type": "execute_result",
          "data": {
            "text/plain": [
              "<re.Match object; span=(4, 5), match='I'>"
            ]
          },
          "metadata": {},
          "execution_count": 35
        }
      ]
    },
    {
      "cell_type": "code",
      "metadata": {
        "colab": {
          "base_uri": "https://localhost:8080/",
          "height": 36
        },
        "id": "mrHIHKIz4DBz",
        "outputId": "493d6e4d-6827-4680-dcfc-6233693d6cfb"
      },
      "source": [
        "result = re.search('ABC', s)\n",
        "# Encontrando onde começa o padrão\n",
        "result.start()\n",
        "14\n",
        "# Encontrando em qual posição acaba o padrão\n",
        "result.end()\n",
        "17\n",
        "# Encontrando o intervalo onde está o padrão\n",
        "result.span()\n",
        "(14, 17)\n",
        "# Encontrando o grupo de padrões procurados\n",
        "result.group()\n",
        "'ABC'\n",
        "# Encontrando apenas o primeiro elemento do grupo encontrado\n",
        "result[0]\n",
        "'ABC'"
      ],
      "execution_count": 36,
      "outputs": [
        {
          "output_type": "execute_result",
          "data": {
            "application/vnd.google.colaboratory.intrinsic+json": {
              "type": "string"
            },
            "text/plain": [
              "'ABC'"
            ]
          },
          "metadata": {},
          "execution_count": 36
        }
      ]
    },
    {
      "cell_type": "code",
      "metadata": {
        "colab": {
          "base_uri": "https://localhost:8080/"
        },
        "id": "S3SASvvt4ZKL",
        "outputId": "1464a51b-8ed1-429a-9d82-cc1a96df479b"
      },
      "source": [
        "# O ponto (.) funciona como um coringa e pode ser usado para achar qualquer caracter. Qualquer um.\n",
        "\n",
        "s = 'U3'\n",
        "re.search('U.',s)\n",
        "#out: <_sre.SRE_Match object; span=(0, 2), match='U3'>\n",
        "s2 = 'U#'\n",
        "re.search('U.',s2)\n",
        "#out: <_sre.SRE_Match object; span=(0, 2), match='U#'>"
      ],
      "execution_count": 38,
      "outputs": [
        {
          "output_type": "execute_result",
          "data": {
            "text/plain": [
              "<re.Match object; span=(0, 2), match='U#'>"
            ]
          },
          "metadata": {},
          "execution_count": 38
        }
      ]
    },
    {
      "cell_type": "code",
      "metadata": {
        "colab": {
          "base_uri": "https://localhost:8080/"
        },
        "id": "QSyfaRJ_5CcB",
        "outputId": "8ed472f4-ea9b-430a-ea38-0474381c85f5"
      },
      "source": [
        "#Deste modo, se uso \\d é para achar dígitos, ao passo que \\D é para não-digitos. \\s para espaços e \\S para não-espaços. \n",
        "#Analogamente, \\w para letras e numeros e \\W para outros que não-letras-e-números.\n",
        "\n",
        "s = 'Now I know my 123'\n",
        "re.search('\\d',s)\n",
        "#out: <_sre.SRE_Match object; span=(14, 15), match='1'>\n",
        "s1 = 'Now I-know-my-ABC'\n",
        "re.search('\\s',s1)\n",
        "#out: <_sre.SRE_Match object; span=(3, 4), match=' '>\n",
        "s2 = 'Not$$$'\n",
        "re.search('\\W',s2)\n",
        "#out: <_sre.SRE_Match object; span=(3, 4), match='$'>\n",
        "#if '\\w', you will find 'N', the first character.\n",
        "re.search('\\w',s2)"
      ],
      "execution_count": 40,
      "outputs": [
        {
          "output_type": "execute_result",
          "data": {
            "text/plain": [
              "<re.Match object; span=(0, 1), match='N'>"
            ]
          },
          "metadata": {},
          "execution_count": 40
        }
      ]
    }
  ]
}