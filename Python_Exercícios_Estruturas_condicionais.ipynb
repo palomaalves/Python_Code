{
  "nbformat": 4,
  "nbformat_minor": 0,
  "metadata": {
    "colab": {
      "name": "Python Exercícios Estruturas condicionais.ipynb",
      "provenance": [],
      "include_colab_link": true
    },
    "kernelspec": {
      "name": "python3",
      "display_name": "Python 3"
    }
  },
  "cells": [
    {
      "cell_type": "markdown",
      "metadata": {
        "id": "view-in-github",
        "colab_type": "text"
      },
      "source": [
        "<a href=\"https://colab.research.google.com/github/palomaalves/Python_Code/blob/main/Python_Exerc%C3%ADcios_Estruturas_condicionais.ipynb\" target=\"_parent\"><img src=\"https://colab.research.google.com/assets/colab-badge.svg\" alt=\"Open In Colab\"/></a>"
      ]
    },
    {
      "cell_type": "markdown",
      "metadata": {
        "id": "c9BudZ2gNE2n"
      },
      "source": [
        "# Exercício 1\n",
        "\n",
        "Leia a idade do usuário e classifique-o em:\n",
        "- Criança – 0 a 12 anos\n",
        "- Adolescente – 13 a 17 anos\n",
        "- Adulto – acima de 18 anos\n",
        " -Se o usuário digitar um número negativo, mostrar a mensagem que a idade é inválida\n"
      ]
    },
    {
      "cell_type": "code",
      "metadata": {
        "id": "iYgw0XGvM0Xz",
        "colab": {
          "base_uri": "https://localhost:8080/"
        },
        "outputId": "8f3ec0fc-af88-4b0b-b327-9e8097f6428f"
      },
      "source": [
        "idade = int(input('Digite a idade: '))"
      ],
      "execution_count": 3,
      "outputs": [
        {
          "name": "stdout",
          "output_type": "stream",
          "text": [
            "Digite a idade: 18\n"
          ]
        }
      ]
    },
    {
      "cell_type": "code",
      "metadata": {
        "id": "Gh0MVkaLlv-J",
        "colab": {
          "base_uri": "https://localhost:8080/"
        },
        "outputId": "bb636880-b876-49f6-a4ed-09ce8e0e5f63"
      },
      "source": [
        "print(idade)"
      ],
      "execution_count": 4,
      "outputs": [
        {
          "output_type": "stream",
          "name": "stdout",
          "text": [
            "18\n"
          ]
        }
      ]
    },
    {
      "cell_type": "code",
      "metadata": {
        "id": "Dy_UFha_Nb8o",
        "colab": {
          "base_uri": "https://localhost:8080/"
        },
        "outputId": "a81434cc-0518-4cbf-fd69-54c6286c8aab"
      },
      "source": [
        "if idade >= 0 and idade <= 12:\n",
        "  print('Criança')\n",
        "elif idade > 12 and idade <= 18:\n",
        "  print('Adolescente')\n",
        "elif idade > 18:\n",
        "  print('Adulto')\n",
        "else:\n",
        "  print('Idade inválida')"
      ],
      "execution_count": 5,
      "outputs": [
        {
          "output_type": "stream",
          "name": "stdout",
          "text": [
            "Adolescente\n"
          ]
        }
      ]
    },
    {
      "cell_type": "markdown",
      "metadata": {
        "id": "QK3YAlgdN0t3"
      },
      "source": [
        "# Exercício 2\n",
        "\n",
        "Calcular a média de um aluno que cursou a disciplina de Programação I, a partir da leitura das notas M1, M2 e M3; passando por um cálculo da média aritmética. Após a média calculada, devemos anunciar se o aluno foi aprovado, reprovado ou pegou exame\n",
        "- Se a média estiver entre 0.0 e 4.0, o aluno está reprovado\n",
        "- Se a média estiver entre 4.1 e 6.0, o aluno pegou exame\n",
        "- Se a média for maior do que 6.0, o aluno está aprovado\n",
        "- Se o aluno pegou exame, deve ser lida a nota do exame. Se a nota do exame for maior do que 6.0, está aprovado, senão; está reprovado"
      ]
    },
    {
      "cell_type": "code",
      "metadata": {
        "id": "FIz6i8_LOByQ",
        "colab": {
          "base_uri": "https://localhost:8080/"
        },
        "outputId": "c090930e-cede-43e3-d262-4a2d5ad78187"
      },
      "source": [
        "m1 = float(input('Digite a nota M1: '))\n",
        "m2 = float(input('Digite a nota M2: '))\n",
        "m3 = float(input('Digite a nota M3: '))"
      ],
      "execution_count": 6,
      "outputs": [
        {
          "name": "stdout",
          "output_type": "stream",
          "text": [
            "Digite a nota M1: 7\n",
            "Digite a nota M2: 5\n",
            "Digite a nota M3: 10\n"
          ]
        }
      ]
    },
    {
      "cell_type": "code",
      "metadata": {
        "id": "g1-4CUlMORsU",
        "colab": {
          "base_uri": "https://localhost:8080/"
        },
        "outputId": "5734f6ef-b2be-42af-ecaa-f953877b7581"
      },
      "source": [
        "media = (m1 + m2 + m3) / 3\n",
        "print(media)"
      ],
      "execution_count": 7,
      "outputs": [
        {
          "output_type": "stream",
          "name": "stdout",
          "text": [
            "7.333333333333333\n"
          ]
        }
      ]
    },
    {
      "cell_type": "code",
      "metadata": {
        "id": "9uVrqKjhOcAV",
        "colab": {
          "base_uri": "https://localhost:8080/"
        },
        "outputId": "f1259098-e931-4047-8ec2-4446079e6a77"
      },
      "source": [
        "if media >= 0.0 and media <= 4.0:\n",
        "  print('Aluno reprovado')\n",
        "elif media >= 4.1 and media <= 6.0:\n",
        "  exame = float(input('Digite a nota do exame'))\n",
        "  if exame >= 6.0:\n",
        "    print('Aprovado no exame')\n",
        "  else:\n",
        "    print('Reprovado no exame')\n",
        "else:\n",
        "  print('Aluno aprovado')"
      ],
      "execution_count": 8,
      "outputs": [
        {
          "output_type": "stream",
          "name": "stdout",
          "text": [
            "Aluno aprovado\n"
          ]
        }
      ]
    }
  ]
}